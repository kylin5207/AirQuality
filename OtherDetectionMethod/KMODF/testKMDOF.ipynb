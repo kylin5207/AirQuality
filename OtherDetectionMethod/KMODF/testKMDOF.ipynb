{
 "cells": [
  {
   "cell_type": "markdown",
   "metadata": {},
   "source": [
    "**<font size=5>使用Keogh_Data数据集测试K均距异常检测方法</font>**"
   ]
  },
  {
   "cell_type": "markdown",
   "metadata": {},
   "source": [
    "**<font size=4>1. 生成数据集</font>**"
   ]
  },
  {
   "cell_type": "code",
   "execution_count": 1,
   "metadata": {},
   "outputs": [],
   "source": [
    "import numpy as np\n",
    "import pandas as pd\n",
    "import matplotlib.pyplot as plt\n",
    "import math"
   ]
  },
  {
   "cell_type": "code",
   "execution_count": 2,
   "metadata": {},
   "outputs": [
    {
     "name": "stdout",
     "output_type": "stream",
     "text": [
      "Using matplotlib backend: Qt5Agg\n"
     ]
    }
   ],
   "source": [
    "%matplotlib"
   ]
  },
  {
   "cell_type": "code",
   "execution_count": 3,
   "metadata": {},
   "outputs": [],
   "source": [
    "np.random.seed(0)"
   ]
  },
  {
   "cell_type": "markdown",
   "metadata": {},
   "source": [
    "outliermode函数用于生成异常模式"
   ]
  },
  {
   "cell_type": "code",
   "execution_count": 4,
   "metadata": {},
   "outputs": [],
   "source": [
    "def outliermode(N, tarray):\n",
    "    array = np.zeros_like(tarray)\n",
    "    earray = np.sin(75 * np.pi * tarray / N) - np.sin(50 * np.pi * tarray / N)\n",
    "    array[400:433] = earray[400:433]\n",
    "    return array"
   ]
  },
  {
   "cell_type": "markdown",
   "metadata": {},
   "source": [
    "np.random.normal(loc=0, scale=0.1, size=(len(tarray)))用于生成一个均值为0，标准差为0.1的加性高斯噪声"
   ]
  },
  {
   "cell_type": "code",
   "execution_count": 5,
   "metadata": {},
   "outputs": [],
   "source": [
    "def createData(N, tarray):\n",
    "    noise = np.random.normal(loc=0, scale=0.1, size=(len(tarray)))\n",
    "    y1 = np.sin(50 * np.pi * tarray / N) + noise\n",
    "    y2 = np.sin(50 * np.pi * tarray / N) + noise + outliermode(N, tarray)\n",
    "    return y1, y2"
   ]
  },
  {
   "cell_type": "code",
   "execution_count": 6,
   "metadata": {},
   "outputs": [],
   "source": [
    "N = 800"
   ]
  },
  {
   "cell_type": "code",
   "execution_count": 7,
   "metadata": {},
   "outputs": [],
   "source": [
    "t = np.arange(0, N)"
   ]
  },
  {
   "cell_type": "code",
   "execution_count": 8,
   "metadata": {
    "scrolled": false
   },
   "outputs": [],
   "source": [
    "y1, y2 = createData(N, t)"
   ]
  },
  {
   "cell_type": "markdown",
   "metadata": {},
   "source": [
    "绘制无异常值的数据和有异常值的数据的图像"
   ]
  },
  {
   "cell_type": "code",
   "execution_count": 9,
   "metadata": {},
   "outputs": [],
   "source": [
    "def drawInitialData(t, y1, y2):\n",
    "    plt.plot(t, y1, color=\"black\", label=\"without outliers\", alpha=0.7)\n",
    "    plt.plot(t, y2, \"b--\", label=\"with outliers\")\n",
    "    plt.legend()"
   ]
  },
  {
   "cell_type": "code",
   "execution_count": 10,
   "metadata": {},
   "outputs": [],
   "source": [
    "drawInitialData(t, y1, y2)"
   ]
  },
  {
   "cell_type": "markdown",
   "metadata": {},
   "source": [
    "可以发现，中间[400， 432]部分的数据是含有异常值的"
   ]
  },
  {
   "cell_type": "markdown",
   "metadata": {},
   "source": [
    "**<font size=4>K均距异常因子检测</font>**"
   ]
  },
  {
   "cell_type": "markdown",
   "metadata": {},
   "source": [
    "**<font size=4>1. 计算边缘权重因子</font>**"
   ]
  },
  {
   "cell_type": "markdown",
   "metadata": {},
   "source": [
    "**<font size=3 color=\"blue\">用于确定子时间序列的边界点</font>**"
   ]
  },
  {
   "cell_type": "code",
   "execution_count": 11,
   "metadata": {},
   "outputs": [],
   "source": [
    "#假设将检测窗口的宽度设置为7（即一周）\n",
    "w = 9\n",
    "k = 10"
   ]
  },
  {
   "cell_type": "markdown",
   "metadata": {},
   "source": [
    "定义一个ndarray，存储下该数据在滑动窗口中成为极值的次数"
   ]
  },
  {
   "cell_type": "code",
   "execution_count": 12,
   "metadata": {},
   "outputs": [],
   "source": [
    "countnum = np.zeros_like(y2)"
   ]
  },
  {
   "cell_type": "code",
   "execution_count": 13,
   "metadata": {},
   "outputs": [
    {
     "data": {
      "text/plain": [
       "800"
      ]
     },
     "execution_count": 13,
     "metadata": {},
     "output_type": "execute_result"
    }
   ],
   "source": [
    "m = countnum.shape[0]\n",
    "m"
   ]
  },
  {
   "cell_type": "code",
   "execution_count": 14,
   "metadata": {},
   "outputs": [],
   "source": [
    "windownum = int(np.ceil(m / w))"
   ]
  },
  {
   "cell_type": "code",
   "execution_count": 15,
   "metadata": {
    "scrolled": true
   },
   "outputs": [
    {
     "data": {
      "text/plain": [
       "89"
      ]
     },
     "execution_count": 15,
     "metadata": {},
     "output_type": "execute_result"
    }
   ],
   "source": [
    "windownum"
   ]
  },
  {
   "cell_type": "markdown",
   "metadata": {},
   "source": [
    "<font color=\"red\">通常，把收尾两个数据点，直接视为边界点，这里我们没有对首尾边界点进行处理</font>"
   ]
  },
  {
   "cell_type": "code",
   "execution_count": 16,
   "metadata": {},
   "outputs": [],
   "source": [
    "for i in range(windownum-1):\n",
    "    windowarray = y2[i*w:(i+1)*w]\n",
    "    wmin = windowarray.min()\n",
    "    wmax = windowarray.max()\n",
    "    for j in range(w):\n",
    "        valueindex = i * w + j\n",
    "        value = y2[valueindex]\n",
    "        num = 0\n",
    "        if abs(wmin-value) < 1e-9: \n",
    "            num -= 1\n",
    "        elif abs(wmax-value) < 1e-9:\n",
    "            num += 1\n",
    "        countnum[valueindex] = abs(num)\n",
    "        "
   ]
  },
  {
   "cell_type": "code",
   "execution_count": 17,
   "metadata": {},
   "outputs": [],
   "source": [
    "countnum[0] = 1"
   ]
  },
  {
   "cell_type": "code",
   "execution_count": 18,
   "metadata": {},
   "outputs": [],
   "source": [
    "countnum[m-1] = 1"
   ]
  },
  {
   "cell_type": "code",
   "execution_count": 19,
   "metadata": {},
   "outputs": [
    {
     "data": {
      "text/plain": [
       "array([1., 0., 0., 0., 0., 0., 1., 0., 0., 1., 0., 0., 0., 0., 0., 0., 0.,\n",
       "       1., 1., 0., 0., 0., 0., 0., 0., 1., 0., 1., 0., 0., 0., 0., 0., 0.,\n",
       "       0., 1., 0., 0., 0., 0., 0., 0., 0., 1., 1., 1., 0., 0., 0., 0., 0.,\n",
       "       0., 0., 1., 0., 0., 1., 0., 0., 0., 0., 0., 1., 1., 0., 0., 0., 0.,\n",
       "       0., 0., 1., 0., 1., 0., 0., 0., 0., 0., 0., 0., 1., 1., 0., 0., 0.,\n",
       "       0., 0., 0., 1., 0., 1., 0., 0., 0., 0., 0., 0., 0., 1., 1., 0., 0.,\n",
       "       0., 0., 0., 1., 0., 0., 1., 0., 0., 0., 0., 0., 0., 0., 1., 0., 0.,\n",
       "       0., 0., 1., 0., 0., 0., 1., 1., 0., 0., 0., 0., 0., 0., 0., 1., 0.,\n",
       "       1., 0., 0., 0., 0., 0., 0., 1., 1., 0., 0., 0., 0., 0., 0., 0., 1.,\n",
       "       1., 0., 0., 0., 0., 0., 0., 0., 1., 1., 0., 0., 0., 0., 0., 1., 0.,\n",
       "       0., 1., 0., 0., 0., 0., 0., 0., 0., 1., 1., 0., 0., 1., 0., 0., 0.,\n",
       "       0., 0., 0., 1., 0., 0., 0., 0., 0., 0., 1., 1., 0., 0., 0., 0., 0.,\n",
       "       0., 0., 1., 1., 0., 0., 0., 0., 0., 0., 0., 1., 1., 0., 0., 0., 0.,\n",
       "       0., 0., 1., 0., 1., 0., 0., 0., 0., 0., 0., 0., 1., 0., 1., 0., 0.,\n",
       "       0., 0., 0., 0., 1., 1., 0., 0., 0., 0., 0., 1., 0., 0., 1., 0., 0.,\n",
       "       0., 0., 0., 0., 1., 0., 0., 0., 0., 0., 1., 0., 0., 0., 1., 1., 0.,\n",
       "       0., 0., 0., 0., 0., 0., 1., 0., 1., 0., 0., 0., 0., 0., 0., 1., 1.,\n",
       "       0., 0., 0., 0., 0., 0., 1., 0., 1., 0., 0., 0., 0., 0., 0., 0., 1.,\n",
       "       1., 0., 0., 0., 0., 0., 1., 0., 0., 1., 0., 0., 0., 0., 0., 0., 0.,\n",
       "       1., 1., 0., 0., 1., 0., 0., 0., 0., 0., 1., 0., 0., 0., 0., 0., 0.,\n",
       "       0., 1., 0., 1., 0., 0., 0., 0., 0., 0., 1., 1., 0., 0., 0., 0., 0.,\n",
       "       0., 0., 1., 1., 0., 0., 0., 0., 0., 0., 0., 1., 1., 0., 0., 0., 0.,\n",
       "       0., 0., 0., 1., 1., 0., 0., 0., 0., 0., 0., 0., 1., 1., 0., 0., 1.,\n",
       "       0., 0., 0., 0., 0., 1., 0., 0., 0., 0., 0., 0., 0., 1., 1., 0., 0.,\n",
       "       0., 0., 0., 0., 0., 1., 0., 0., 0., 0., 1., 0., 0., 0., 1., 0., 1.,\n",
       "       0., 0., 0., 1., 0., 0., 0., 1., 0., 0., 0., 0., 0., 0., 0., 1., 1.,\n",
       "       0., 0., 0., 0., 0., 0., 0., 1., 1., 0., 0., 0., 0., 1., 0., 0., 0.,\n",
       "       1., 0., 0., 0., 0., 0., 0., 0., 1., 0., 0., 1., 0., 0., 0., 0., 0.,\n",
       "       1., 1., 0., 0., 0., 0., 0., 0., 1., 0., 1., 0., 0., 0., 0., 0., 0.,\n",
       "       0., 1., 1., 0., 0., 0., 0., 0., 0., 0., 1., 0., 0., 1., 0., 0., 0.,\n",
       "       0., 1., 0., 1., 0., 0., 0., 0., 0., 1., 0., 0., 1., 0., 0., 0., 0.,\n",
       "       0., 0., 0., 1., 1., 0., 0., 1., 0., 0., 0., 0., 0., 1., 0., 0., 0.,\n",
       "       0., 0., 0., 0., 1., 0., 0., 0., 1., 0., 0., 0., 1., 0., 1., 0., 0.,\n",
       "       0., 0., 0., 0., 0., 1., 0., 0., 0., 0., 1., 0., 0., 0., 1., 1., 0.,\n",
       "       0., 0., 0., 0., 0., 1., 0., 1., 0., 0., 0., 0., 0., 0., 0., 1., 1.,\n",
       "       0., 0., 0., 0., 0., 1., 0., 0., 0., 1., 0., 0., 0., 0., 0., 0., 1.,\n",
       "       0., 0., 0., 0., 0., 0., 1., 1., 0., 1., 0., 0., 0., 0., 0., 0., 0.,\n",
       "       1., 0., 0., 0., 1., 0., 0., 0., 0., 1., 1., 0., 0., 0., 0., 0., 0.,\n",
       "       1., 0., 0., 1., 0., 0., 0., 0., 0., 0., 1., 1., 0., 0., 0., 0., 0.,\n",
       "       0., 0., 1., 1., 0., 0., 0., 0., 0., 0., 0., 1., 1., 0., 0., 0., 0.,\n",
       "       0., 1., 0., 0., 1., 0., 0., 0., 0., 0., 0., 0., 1., 0., 0., 0., 0.,\n",
       "       1., 0., 0., 0., 1., 1., 0., 0., 0., 0., 0., 0., 0., 1., 0., 0., 0.,\n",
       "       1., 0., 0., 0., 0., 1., 1., 0., 0., 0., 0., 0., 1., 0., 0., 0., 1.,\n",
       "       0., 0., 0., 0., 0., 0., 1., 1., 0., 0., 0., 1., 0., 0., 0., 0., 1.,\n",
       "       0., 0., 0., 0., 0., 0., 0., 1., 0., 0., 0., 1., 0., 0., 0., 0., 1.,\n",
       "       1., 0., 0., 0., 0., 0., 0., 0., 1., 0., 0., 1., 0., 0., 0., 0., 0.,\n",
       "       1., 1., 0., 0., 0., 0., 0., 0., 1., 0., 0., 0., 0., 0., 0., 0., 0.,\n",
       "       1.])"
      ]
     },
     "execution_count": 19,
     "metadata": {},
     "output_type": "execute_result"
    }
   ],
   "source": [
    "countnum"
   ]
  },
  {
   "cell_type": "markdown",
   "metadata": {},
   "source": [
    "找到w=9为一个单位，找出其中的最大值的下标"
   ]
  },
  {
   "cell_type": "code",
   "execution_count": 20,
   "metadata": {},
   "outputs": [],
   "source": [
    "indexarray = []"
   ]
  },
  {
   "cell_type": "code",
   "execution_count": 21,
   "metadata": {},
   "outputs": [],
   "source": [
    "for i in range(m):\n",
    "    if countnum[i] == 1:\n",
    "        indexarray.append(i)"
   ]
  },
  {
   "cell_type": "code",
   "execution_count": 22,
   "metadata": {},
   "outputs": [
    {
     "data": {
      "text/plain": [
       "[0,\n",
       " 6,\n",
       " 9,\n",
       " 17,\n",
       " 18,\n",
       " 25,\n",
       " 27,\n",
       " 35,\n",
       " 43,\n",
       " 44,\n",
       " 45,\n",
       " 53,\n",
       " 56,\n",
       " 62,\n",
       " 63,\n",
       " 70,\n",
       " 72,\n",
       " 80,\n",
       " 81,\n",
       " 88,\n",
       " 90,\n",
       " 98,\n",
       " 99,\n",
       " 105,\n",
       " 108,\n",
       " 116,\n",
       " 121,\n",
       " 125,\n",
       " 126,\n",
       " 134,\n",
       " 136,\n",
       " 143,\n",
       " 144,\n",
       " 152,\n",
       " 153,\n",
       " 161,\n",
       " 162,\n",
       " 168,\n",
       " 171,\n",
       " 179,\n",
       " 180,\n",
       " 183,\n",
       " 190,\n",
       " 197,\n",
       " 198,\n",
       " 206,\n",
       " 207,\n",
       " 215,\n",
       " 216,\n",
       " 223,\n",
       " 225,\n",
       " 233,\n",
       " 235,\n",
       " 242,\n",
       " 243,\n",
       " 249,\n",
       " 252,\n",
       " 259,\n",
       " 265,\n",
       " 269,\n",
       " 270,\n",
       " 278,\n",
       " 280,\n",
       " 287,\n",
       " 288,\n",
       " 295,\n",
       " 297,\n",
       " 305,\n",
       " 306,\n",
       " 312,\n",
       " 315,\n",
       " 323,\n",
       " 324,\n",
       " 327,\n",
       " 333,\n",
       " 341,\n",
       " 343,\n",
       " 350,\n",
       " 351,\n",
       " 359,\n",
       " 360,\n",
       " 368,\n",
       " 369,\n",
       " 377,\n",
       " 378,\n",
       " 386,\n",
       " 387,\n",
       " 390,\n",
       " 396,\n",
       " 404,\n",
       " 405,\n",
       " 413,\n",
       " 418,\n",
       " 422,\n",
       " 424,\n",
       " 428,\n",
       " 432,\n",
       " 440,\n",
       " 441,\n",
       " 449,\n",
       " 450,\n",
       " 455,\n",
       " 459,\n",
       " 467,\n",
       " 470,\n",
       " 476,\n",
       " 477,\n",
       " 484,\n",
       " 486,\n",
       " 494,\n",
       " 495,\n",
       " 503,\n",
       " 506,\n",
       " 511,\n",
       " 513,\n",
       " 519,\n",
       " 522,\n",
       " 530,\n",
       " 531,\n",
       " 534,\n",
       " 540,\n",
       " 548,\n",
       " 552,\n",
       " 556,\n",
       " 558,\n",
       " 566,\n",
       " 571,\n",
       " 575,\n",
       " 576,\n",
       " 583,\n",
       " 585,\n",
       " 593,\n",
       " 594,\n",
       " 600,\n",
       " 604,\n",
       " 611,\n",
       " 618,\n",
       " 619,\n",
       " 621,\n",
       " 629,\n",
       " 633,\n",
       " 638,\n",
       " 639,\n",
       " 646,\n",
       " 649,\n",
       " 656,\n",
       " 657,\n",
       " 665,\n",
       " 666,\n",
       " 674,\n",
       " 675,\n",
       " 681,\n",
       " 684,\n",
       " 692,\n",
       " 697,\n",
       " 701,\n",
       " 702,\n",
       " 710,\n",
       " 714,\n",
       " 719,\n",
       " 720,\n",
       " 726,\n",
       " 730,\n",
       " 737,\n",
       " 738,\n",
       " 742,\n",
       " 747,\n",
       " 755,\n",
       " 759,\n",
       " 764,\n",
       " 765,\n",
       " 773,\n",
       " 776,\n",
       " 782,\n",
       " 783,\n",
       " 790,\n",
       " 799]"
      ]
     },
     "execution_count": 22,
     "metadata": {},
     "output_type": "execute_result"
    }
   ],
   "source": [
    "indexarray"
   ]
  },
  {
   "cell_type": "markdown",
   "metadata": {},
   "source": [
    "**<font size=4>2. 计算子序列的特征</font>**"
   ]
  },
  {
   "cell_type": "markdown",
   "metadata": {},
   "source": [
    "子序列特征主要包括：序列长度，序列高度，序列均值，序列标准差"
   ]
  },
  {
   "cell_type": "markdown",
   "metadata": {},
   "source": [
    "**序列长度**:in+1 - in + 1<br>\n",
    "**序列高度**:Xn+1 - Xn两个边缘点的值之差<br>\n",
    "**序列均值**:mean\n",
    "**序列方差**:std"
   ]
  },
  {
   "cell_type": "code",
   "execution_count": 23,
   "metadata": {},
   "outputs": [],
   "source": [
    "featurelist = []"
   ]
  },
  {
   "cell_type": "code",
   "execution_count": 24,
   "metadata": {},
   "outputs": [],
   "source": [
    "for i in range(len(indexarray)-1):\n",
    "    start = indexarray[i]\n",
    "    end = indexarray[i+1]\n",
    "    subsequence = y2[start:end+1]\n",
    "    sequencelength = end - start + 1\n",
    "    sequenceheight = abs(y2[end] -  y2[start])\n",
    "    seqencemean = subsequence.mean()\n",
    "    seqencestd = subsequence.std()\n",
    "    featurelist.append([sequencelength, sequenceheight, seqencemean, seqencestd])"
   ]
  },
  {
   "cell_type": "code",
   "execution_count": 25,
   "metadata": {},
   "outputs": [],
   "source": [
    "features = np.array(featurelist)"
   ]
  },
  {
   "cell_type": "code",
   "execution_count": 26,
   "metadata": {},
   "outputs": [
    {
     "data": {
      "text/plain": [
       "(176, 4)"
      ]
     },
     "execution_count": 26,
     "metadata": {},
     "output_type": "execute_result"
    }
   ],
   "source": [
    "features.shape"
   ]
  },
  {
   "cell_type": "markdown",
   "metadata": {},
   "source": [
    "**<font size=4>3. 标准化特征</font>**"
   ]
  },
  {
   "cell_type": "markdown",
   "metadata": {},
   "source": [
    "先尝试使用MinMaxScaler对数据进行标准化"
   ]
  },
  {
   "cell_type": "code",
   "execution_count": 27,
   "metadata": {},
   "outputs": [],
   "source": [
    "from sklearn.preprocessing import MinMaxScaler"
   ]
  },
  {
   "cell_type": "code",
   "execution_count": 28,
   "metadata": {},
   "outputs": [],
   "source": [
    "scaler = MinMaxScaler()"
   ]
  },
  {
   "cell_type": "code",
   "execution_count": 29,
   "metadata": {},
   "outputs": [],
   "source": [
    "features_scaled = scaler.fit_transform(features)"
   ]
  },
  {
   "cell_type": "markdown",
   "metadata": {},
   "source": [
    "**<font size=4>4. 相关函数定义</font>**"
   ]
  },
  {
   "cell_type": "markdown",
   "metadata": {},
   "source": [
    "计算任意两点之间的距离"
   ]
  },
  {
   "cell_type": "code",
   "execution_count": 30,
   "metadata": {},
   "outputs": [],
   "source": [
    "def distance(p,q):\n",
    "    dist = 0\n",
    "    for i in range(4):\n",
    "        dist += (p[i] - q[i]) ** 2\n",
    "    np.sqrt(dist)\n",
    "    return dist"
   ]
  },
  {
   "cell_type": "code",
   "execution_count": 31,
   "metadata": {},
   "outputs": [],
   "source": [
    "def K_dist(data, k, seqindex):\n",
    "    m = data.shape[0]\n",
    "    \n",
    "    p = data[seqindex]\n",
    "    distanceslist = []\n",
    "    \n",
    "    for i in range(m):\n",
    "        if i == seqindex:\n",
    "            continue\n",
    "        q = data[i]\n",
    "        distanceslist.append(distance(p,q))\n",
    "\n",
    "    distarray = np.array(distanceslist).reshape(-1,1)\n",
    "    scaler = MinMaxScaler()\n",
    "    distarrayscaled = scaler.fit_transform(distarray)\n",
    "    distarrayscaled = distarrayscaled.reshape(1,-1).ravel()\n",
    "\n",
    "    sortIndex = distarrayscaled.argsort()\n",
    "    pmax = distarrayscaled[sortIndex[m-2]]\n",
    "    sumkdist = 0 \n",
    "    \n",
    "    for j in range(k):\n",
    "        jth = distarray[sortIndex[j]]\n",
    "        sumkdist += jth\n",
    "     \n",
    "    meankdist = sumkdist / k\n",
    "        \n",
    "    return meankdist + pmax\n",
    "    "
   ]
  },
  {
   "cell_type": "markdown",
   "metadata": {},
   "source": [
    "ndarray.argsort()返回ndarray数组中从小到大排序的下标"
   ]
  },
  {
   "cell_type": "markdown",
   "metadata": {},
   "source": [
    "查看每个序列的KMDOF，K均距异常因子"
   ]
  },
  {
   "cell_type": "code",
   "execution_count": 32,
   "metadata": {},
   "outputs": [],
   "source": [
    "#seqnum为序列数\n",
    "seqnum = features_scaled.shape[0]"
   ]
  },
  {
   "cell_type": "code",
   "execution_count": 33,
   "metadata": {},
   "outputs": [
    {
     "data": {
      "text/plain": [
       "176"
      ]
     },
     "execution_count": 33,
     "metadata": {},
     "output_type": "execute_result"
    }
   ],
   "source": [
    "seqnum"
   ]
  },
  {
   "cell_type": "code",
   "execution_count": 34,
   "metadata": {},
   "outputs": [],
   "source": [
    "KMDOF = []\n",
    "for i in range(seqnum):\n",
    "    kmd = K_dist(features_scaled, k, i)\n",
    "    KMDOF.append(kmd)"
   ]
  },
  {
   "cell_type": "code",
   "execution_count": 35,
   "metadata": {},
   "outputs": [],
   "source": [
    "KMDOFarray = np.array(KMDOF).ravel()"
   ]
  },
  {
   "cell_type": "code",
   "execution_count": 36,
   "metadata": {},
   "outputs": [
    {
     "data": {
      "text/plain": [
       "array([1.03153495, 1.02672099, 1.0118729 , 1.01107739, 1.01903868,\n",
       "       1.02153603, 1.01150338, 1.06603634, 1.04185611, 1.01496001,\n",
       "       1.01101824, 1.0373586 , 1.01944619, 1.00879511, 1.01691098,\n",
       "       1.01466771, 1.01413333, 1.02377861, 1.02580024, 1.01904792,\n",
       "       1.00806507, 1.01184058, 1.02979259, 1.0186508 , 1.01524705,\n",
       "       1.02069919, 1.02026691, 1.00744056, 1.01029532, 1.01513917,\n",
       "       1.0314864 , 1.02485115, 1.0163576 , 1.03039103, 1.01639018,\n",
       "       1.01313004, 1.02390775, 1.01577038, 1.01041816, 1.01377174,\n",
       "       1.02227536, 1.02099339, 1.01644702, 1.0316598 , 1.0546195 ,\n",
       "       1.01822663, 1.01247092, 1.02481938, 1.0200676 , 1.03158672,\n",
       "       1.05082983, 1.01521114, 1.01707981, 1.00957075, 1.01984201,\n",
       "       1.01962741, 1.02356746, 1.0346419 , 1.02442292, 1.01104329,\n",
       "       1.01994857, 1.02910631, 1.02290517, 1.01683196, 1.02232553,\n",
       "       1.01849905, 1.01003933, 1.01590976, 1.01878283, 1.01954572,\n",
       "       1.00942494, 1.0126826 , 1.03253693, 1.02718763, 1.01127611,\n",
       "       1.0201382 , 1.01901183, 1.00841573, 1.01118836, 1.04452722,\n",
       "       1.01873544, 1.01630327, 1.02951998, 1.02104899, 1.00821361,\n",
       "       1.01033822, 1.03041871, 1.05882527, 1.03427707, 1.01499212,\n",
       "       1.04340425, 1.15212285, 1.10849164, 1.02419088, 1.07741877,\n",
       "       1.07762517, 1.18415284, 1.02388996, 1.01203873, 1.01590203,\n",
       "       1.04370281, 1.02140123, 1.00912159, 1.0230904 , 1.0190596 ,\n",
       "       1.01113462, 1.01817948, 1.03345604, 1.06216367, 1.05115527,\n",
       "       1.0155668 , 1.03485459, 1.0718066 , 1.02911086, 1.04155535,\n",
       "       1.01964218, 1.01029103, 1.00859681, 1.03506309, 1.03292692,\n",
       "       1.01158767, 1.0192325 , 1.03174474, 1.02663143, 1.01343596,\n",
       "       1.04175646, 1.06180451, 1.01288117, 1.01745654, 1.01430329,\n",
       "       1.00975501, 1.01433138, 1.02535581, 1.02085837, 1.02075197,\n",
       "       1.02695451, 1.04357522, 1.02291207, 1.0092749 , 1.02501159,\n",
       "       1.03295151, 1.01328385, 1.02297494, 1.01533592, 1.01966577,\n",
       "       1.02133566, 1.03179055, 1.0169069 , 1.00811165, 1.01134042,\n",
       "       1.03136636, 1.01886764, 1.01025531, 1.03374162, 1.02012335,\n",
       "       1.01410438, 1.00948408, 1.02353961, 1.04619126, 1.01700378,\n",
       "       1.03934391, 1.03399498, 1.02428726, 1.02412428, 1.04042878,\n",
       "       1.04716739, 1.01080945, 1.03220208, 1.02085879, 1.01747606,\n",
       "       1.0104825 , 1.01669204, 1.03024977, 1.03325945, 1.02334018,\n",
       "       1.07235527])"
      ]
     },
     "execution_count": 36,
     "metadata": {},
     "output_type": "execute_result"
    }
   ],
   "source": [
    "KMDOFarray"
   ]
  },
  {
   "cell_type": "code",
   "execution_count": 37,
   "metadata": {},
   "outputs": [
    {
     "data": {
      "text/plain": [
       "array([ 27,  20, 148,  84,  77, 117,  13, 102, 138,  70, 156,  53, 130,\n",
       "        66, 152, 116,  28,  85,  38, 170, 166,  10,  59,   3, 105,  78,\n",
       "        74, 149,   6, 120,  21,   2,  98,  46,  71, 127,  35, 141, 124,\n",
       "        39, 155,  16, 129, 131,  15,   9,  89,  29,  51,  24, 143, 110,\n",
       "        37,  99,  67,  81,  32,  34,  42, 171,  63, 147,  14, 159,  52,\n",
       "       128, 169, 106,  45,  65,  23,  80,  68, 151,  76,   4,  19, 104,\n",
       "       121,  12,  69,  55, 115, 144,  54,  60,  48, 154,  75,  26,  25,\n",
       "       134, 133, 168,  41,  83, 145, 101,   5,  40,  64,  62, 137, 142,\n",
       "       103, 174, 157,  56,  17,  97,  36, 163,  93, 162,  58,  47,  31,\n",
       "       139, 132,  18, 123,   1, 135,  73,  61, 113,  82,  22, 172,  33,\n",
       "        86, 150,  30,   0,  49,  43, 122, 146, 167,  72, 119, 140, 173,\n",
       "       107, 153, 161,  88,  57, 111, 118,  11, 160, 164, 114, 125,   8,\n",
       "        90, 136, 100,  79, 158, 165,  50, 109,  44,  87, 126, 108,   7,\n",
       "       112, 175,  94,  95,  92,  91,  96], dtype=int64)"
      ]
     },
     "execution_count": 37,
     "metadata": {},
     "output_type": "execute_result"
    }
   ],
   "source": [
    "KMDOFarray.argsort()"
   ]
  },
  {
   "cell_type": "code",
   "execution_count": 38,
   "metadata": {},
   "outputs": [
    {
     "data": {
      "text/plain": [
       "1.184152837009642"
      ]
     },
     "execution_count": 38,
     "metadata": {},
     "output_type": "execute_result"
    }
   ],
   "source": [
    "KMDOFarray[96]"
   ]
  },
  {
   "cell_type": "code",
   "execution_count": 39,
   "metadata": {},
   "outputs": [
    {
     "data": {
      "text/plain": [
       "1.1521228545798017"
      ]
     },
     "execution_count": 39,
     "metadata": {},
     "output_type": "execute_result"
    }
   ],
   "source": [
    "KMDOFarray[91]"
   ]
  },
  {
   "cell_type": "code",
   "execution_count": 40,
   "metadata": {},
   "outputs": [
    {
     "data": {
      "text/plain": [
       "1.0723552706659585"
      ]
     },
     "execution_count": 40,
     "metadata": {},
     "output_type": "execute_result"
    }
   ],
   "source": [
    "KMDOFarray[175]"
   ]
  },
  {
   "cell_type": "code",
   "execution_count": 41,
   "metadata": {},
   "outputs": [],
   "source": [
    "startOutlier = indexarray[90]"
   ]
  },
  {
   "cell_type": "code",
   "execution_count": 42,
   "metadata": {},
   "outputs": [],
   "source": [
    "endOutlier = indexarray[96]"
   ]
  },
  {
   "cell_type": "code",
   "execution_count": 43,
   "metadata": {},
   "outputs": [],
   "source": [
    "outlierseq = y2[startOutlier:endOutlier+1]"
   ]
  },
  {
   "cell_type": "code",
   "execution_count": 44,
   "metadata": {},
   "outputs": [
    {
     "data": {
      "text/plain": [
       "[<matplotlib.lines.Line2D at 0x11306cf8>]"
      ]
     },
     "execution_count": 44,
     "metadata": {},
     "output_type": "execute_result"
    }
   ],
   "source": [
    "plt.plot(t[startOutlier:endOutlier+1], outlierseq, color=\"red\", linewidth=5, alpha=0.6, label=\"outlier sequence\")"
   ]
  },
  {
   "cell_type": "code",
   "execution_count": 45,
   "metadata": {},
   "outputs": [
    {
     "data": {
      "text/plain": [
       "<matplotlib.legend.Legend at 0x15d999b0>"
      ]
     },
     "execution_count": 45,
     "metadata": {},
     "output_type": "execute_result"
    }
   ],
   "source": [
    "plt.legend()"
   ]
  },
  {
   "cell_type": "code",
   "execution_count": 46,
   "metadata": {},
   "outputs": [
    {
     "data": {
      "text/plain": [
       "Text(0.5,1,'Outlier sequence detection')"
      ]
     },
     "execution_count": 46,
     "metadata": {},
     "output_type": "execute_result"
    }
   ],
   "source": [
    "plt.xlabel(\"t\")\n",
    "plt.title(\"Outlier sequence detection\")"
   ]
  },
  {
   "cell_type": "code",
   "execution_count": null,
   "metadata": {},
   "outputs": [],
   "source": []
  }
 ],
 "metadata": {
  "kernelspec": {
   "display_name": "Python 3",
   "language": "python",
   "name": "python3"
  },
  "language_info": {
   "codemirror_mode": {
    "name": "ipython",
    "version": 3
   },
   "file_extension": ".py",
   "mimetype": "text/x-python",
   "name": "python",
   "nbconvert_exporter": "python",
   "pygments_lexer": "ipython3",
   "version": "3.6.5"
  }
 },
 "nbformat": 4,
 "nbformat_minor": 2
}
