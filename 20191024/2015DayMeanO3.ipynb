{
 "cells": [
  {
   "cell_type": "code",
   "execution_count": 1,
   "metadata": {},
   "outputs": [],
   "source": [
    "import pandas as pd\n",
    "import matplotlib.pyplot as plt"
   ]
  },
  {
   "cell_type": "code",
   "execution_count": 2,
   "metadata": {},
   "outputs": [
    {
     "name": "stdout",
     "output_type": "stream",
     "text": [
      "Using matplotlib backend: Qt5Agg\n"
     ]
    }
   ],
   "source": [
    "%matplotlib"
   ]
  },
  {
   "cell_type": "markdown",
   "metadata": {},
   "source": [
    "**<font size=5>对每天的日均值利用K均距异常因子检测方法找到一种序列分割的方式</font>**"
   ]
  },
  {
   "cell_type": "markdown",
   "metadata": {},
   "source": [
    "**<font size=4>Ⅰ对每天的每小时的数据求均值，将每天的均值作为该日的O3</font>**"
   ]
  },
  {
   "cell_type": "markdown",
   "metadata": {},
   "source": [
    "<font size=4>1. 读取数据</font>"
   ]
  },
  {
   "cell_type": "code",
   "execution_count": 3,
   "metadata": {},
   "outputs": [],
   "source": [
    "filename = \"2015O3data.csv\"\n",
    "data = pd.read_csv(filename, header = 0, encoding=\"utf-8\")"
   ]
  },
  {
   "cell_type": "markdown",
   "metadata": {},
   "source": [
    "<font size=4>2. 查看数据</font>"
   ]
  },
  {
   "cell_type": "code",
   "execution_count": 4,
   "metadata": {},
   "outputs": [
    {
     "data": {
      "text/plain": [
       "date           int64\n",
       "hour           int64\n",
       "O3           float64\n",
       "O3_24h       float64\n",
       "O3_8h        float64\n",
       "O3_8h_24h    float64\n",
       "dtype: object"
      ]
     },
     "execution_count": 4,
     "metadata": {},
     "output_type": "execute_result"
    }
   ],
   "source": [
    "data.dtypes"
   ]
  },
  {
   "cell_type": "code",
   "execution_count": 5,
   "metadata": {},
   "outputs": [
    {
     "data": {
      "text/plain": [
       "(8212, 6)"
      ]
     },
     "execution_count": 5,
     "metadata": {},
     "output_type": "execute_result"
    }
   ],
   "source": [
    "data.shape"
   ]
  },
  {
   "cell_type": "code",
   "execution_count": 6,
   "metadata": {},
   "outputs": [
    {
     "data": {
      "text/plain": [
       "date         8212\n",
       "hour         8212\n",
       "O3           8212\n",
       "O3_24h       8212\n",
       "O3_8h        8212\n",
       "O3_8h_24h    8212\n",
       "dtype: int64"
      ]
     },
     "execution_count": 6,
     "metadata": {},
     "output_type": "execute_result"
    }
   ],
   "source": [
    "data.count()"
   ]
  },
  {
   "cell_type": "markdown",
   "metadata": {},
   "source": [
    "<font size=4>3. 计算均值</font>"
   ]
  },
  {
   "cell_type": "code",
   "execution_count": 7,
   "metadata": {},
   "outputs": [],
   "source": [
    "group = data.groupby(data[\"date\"])"
   ]
  },
  {
   "cell_type": "markdown",
   "metadata": {},
   "source": [
    "利用groupby按照date每天的日期，计算均值"
   ]
  },
  {
   "cell_type": "code",
   "execution_count": 8,
   "metadata": {},
   "outputs": [],
   "source": [
    "meanSeries = group.mean()[\"O3\"]"
   ]
  },
  {
   "cell_type": "markdown",
   "metadata": {},
   "source": [
    "通过group.mean()方法计算出来的均值是Series类型的，需要手动转化为DataFrame类型"
   ]
  },
  {
   "cell_type": "code",
   "execution_count": 9,
   "metadata": {},
   "outputs": [],
   "source": [
    "meanData = pd.DataFrame(meanSeries, columns=[\"O3\"])"
   ]
  },
  {
   "cell_type": "code",
   "execution_count": 10,
   "metadata": {},
   "outputs": [
    {
     "data": {
      "text/html": [
       "<div>\n",
       "<style scoped>\n",
       "    .dataframe tbody tr th:only-of-type {\n",
       "        vertical-align: middle;\n",
       "    }\n",
       "\n",
       "    .dataframe tbody tr th {\n",
       "        vertical-align: top;\n",
       "    }\n",
       "\n",
       "    .dataframe thead th {\n",
       "        text-align: right;\n",
       "    }\n",
       "</style>\n",
       "<table border=\"1\" class=\"dataframe\">\n",
       "  <thead>\n",
       "    <tr style=\"text-align: right;\">\n",
       "      <th></th>\n",
       "      <th>O3</th>\n",
       "    </tr>\n",
       "    <tr>\n",
       "      <th>date</th>\n",
       "      <th></th>\n",
       "    </tr>\n",
       "  </thead>\n",
       "  <tbody>\n",
       "    <tr>\n",
       "      <th>20150102</th>\n",
       "      <td>20.916667</td>\n",
       "    </tr>\n",
       "    <tr>\n",
       "      <th>20150103</th>\n",
       "      <td>15.333333</td>\n",
       "    </tr>\n",
       "    <tr>\n",
       "      <th>20150104</th>\n",
       "      <td>21.833333</td>\n",
       "    </tr>\n",
       "    <tr>\n",
       "      <th>20150105</th>\n",
       "      <td>14.409091</td>\n",
       "    </tr>\n",
       "    <tr>\n",
       "      <th>20150106</th>\n",
       "      <td>31.090909</td>\n",
       "    </tr>\n",
       "  </tbody>\n",
       "</table>\n",
       "</div>"
      ],
      "text/plain": [
       "                 O3\n",
       "date               \n",
       "20150102  20.916667\n",
       "20150103  15.333333\n",
       "20150104  21.833333\n",
       "20150105  14.409091\n",
       "20150106  31.090909"
      ]
     },
     "execution_count": 10,
     "metadata": {},
     "output_type": "execute_result"
    }
   ],
   "source": [
    "meanData.head()"
   ]
  },
  {
   "cell_type": "markdown",
   "metadata": {},
   "source": [
    "索引就是每天的日期数据，存储为datetime，此时是index索引类型，需要手动转换"
   ]
  },
  {
   "cell_type": "code",
   "execution_count": 11,
   "metadata": {},
   "outputs": [],
   "source": [
    "datetime = meanData.index.values"
   ]
  },
  {
   "cell_type": "code",
   "execution_count": 12,
   "metadata": {},
   "outputs": [],
   "source": [
    "datetimeDF = pd.DataFrame(datetime, columns=[\"datetime\"])"
   ]
  },
  {
   "cell_type": "code",
   "execution_count": 13,
   "metadata": {},
   "outputs": [
    {
     "data": {
      "text/html": [
       "<div>\n",
       "<style scoped>\n",
       "    .dataframe tbody tr th:only-of-type {\n",
       "        vertical-align: middle;\n",
       "    }\n",
       "\n",
       "    .dataframe tbody tr th {\n",
       "        vertical-align: top;\n",
       "    }\n",
       "\n",
       "    .dataframe thead th {\n",
       "        text-align: right;\n",
       "    }\n",
       "</style>\n",
       "<table border=\"1\" class=\"dataframe\">\n",
       "  <thead>\n",
       "    <tr style=\"text-align: right;\">\n",
       "      <th></th>\n",
       "      <th>datetime</th>\n",
       "    </tr>\n",
       "  </thead>\n",
       "  <tbody>\n",
       "    <tr>\n",
       "      <th>0</th>\n",
       "      <td>20150102</td>\n",
       "    </tr>\n",
       "    <tr>\n",
       "      <th>1</th>\n",
       "      <td>20150103</td>\n",
       "    </tr>\n",
       "    <tr>\n",
       "      <th>2</th>\n",
       "      <td>20150104</td>\n",
       "    </tr>\n",
       "    <tr>\n",
       "      <th>3</th>\n",
       "      <td>20150105</td>\n",
       "    </tr>\n",
       "    <tr>\n",
       "      <th>4</th>\n",
       "      <td>20150106</td>\n",
       "    </tr>\n",
       "    <tr>\n",
       "      <th>5</th>\n",
       "      <td>20150107</td>\n",
       "    </tr>\n",
       "    <tr>\n",
       "      <th>6</th>\n",
       "      <td>20150108</td>\n",
       "    </tr>\n",
       "    <tr>\n",
       "      <th>7</th>\n",
       "      <td>20150109</td>\n",
       "    </tr>\n",
       "    <tr>\n",
       "      <th>8</th>\n",
       "      <td>20150110</td>\n",
       "    </tr>\n",
       "    <tr>\n",
       "      <th>9</th>\n",
       "      <td>20150111</td>\n",
       "    </tr>\n",
       "    <tr>\n",
       "      <th>10</th>\n",
       "      <td>20150112</td>\n",
       "    </tr>\n",
       "    <tr>\n",
       "      <th>11</th>\n",
       "      <td>20150113</td>\n",
       "    </tr>\n",
       "    <tr>\n",
       "      <th>12</th>\n",
       "      <td>20150114</td>\n",
       "    </tr>\n",
       "    <tr>\n",
       "      <th>13</th>\n",
       "      <td>20150115</td>\n",
       "    </tr>\n",
       "    <tr>\n",
       "      <th>14</th>\n",
       "      <td>20150116</td>\n",
       "    </tr>\n",
       "    <tr>\n",
       "      <th>15</th>\n",
       "      <td>20150117</td>\n",
       "    </tr>\n",
       "    <tr>\n",
       "      <th>16</th>\n",
       "      <td>20150118</td>\n",
       "    </tr>\n",
       "    <tr>\n",
       "      <th>17</th>\n",
       "      <td>20150119</td>\n",
       "    </tr>\n",
       "    <tr>\n",
       "      <th>18</th>\n",
       "      <td>20150120</td>\n",
       "    </tr>\n",
       "    <tr>\n",
       "      <th>19</th>\n",
       "      <td>20150121</td>\n",
       "    </tr>\n",
       "    <tr>\n",
       "      <th>20</th>\n",
       "      <td>20150122</td>\n",
       "    </tr>\n",
       "    <tr>\n",
       "      <th>21</th>\n",
       "      <td>20150123</td>\n",
       "    </tr>\n",
       "    <tr>\n",
       "      <th>22</th>\n",
       "      <td>20150124</td>\n",
       "    </tr>\n",
       "    <tr>\n",
       "      <th>23</th>\n",
       "      <td>20150125</td>\n",
       "    </tr>\n",
       "    <tr>\n",
       "      <th>24</th>\n",
       "      <td>20150126</td>\n",
       "    </tr>\n",
       "    <tr>\n",
       "      <th>25</th>\n",
       "      <td>20150127</td>\n",
       "    </tr>\n",
       "    <tr>\n",
       "      <th>26</th>\n",
       "      <td>20150128</td>\n",
       "    </tr>\n",
       "    <tr>\n",
       "      <th>27</th>\n",
       "      <td>20150129</td>\n",
       "    </tr>\n",
       "    <tr>\n",
       "      <th>28</th>\n",
       "      <td>20150130</td>\n",
       "    </tr>\n",
       "    <tr>\n",
       "      <th>29</th>\n",
       "      <td>20150131</td>\n",
       "    </tr>\n",
       "    <tr>\n",
       "      <th>...</th>\n",
       "      <td>...</td>\n",
       "    </tr>\n",
       "    <tr>\n",
       "      <th>334</th>\n",
       "      <td>20151202</td>\n",
       "    </tr>\n",
       "    <tr>\n",
       "      <th>335</th>\n",
       "      <td>20151203</td>\n",
       "    </tr>\n",
       "    <tr>\n",
       "      <th>336</th>\n",
       "      <td>20151204</td>\n",
       "    </tr>\n",
       "    <tr>\n",
       "      <th>337</th>\n",
       "      <td>20151205</td>\n",
       "    </tr>\n",
       "    <tr>\n",
       "      <th>338</th>\n",
       "      <td>20151206</td>\n",
       "    </tr>\n",
       "    <tr>\n",
       "      <th>339</th>\n",
       "      <td>20151207</td>\n",
       "    </tr>\n",
       "    <tr>\n",
       "      <th>340</th>\n",
       "      <td>20151208</td>\n",
       "    </tr>\n",
       "    <tr>\n",
       "      <th>341</th>\n",
       "      <td>20151209</td>\n",
       "    </tr>\n",
       "    <tr>\n",
       "      <th>342</th>\n",
       "      <td>20151210</td>\n",
       "    </tr>\n",
       "    <tr>\n",
       "      <th>343</th>\n",
       "      <td>20151211</td>\n",
       "    </tr>\n",
       "    <tr>\n",
       "      <th>344</th>\n",
       "      <td>20151212</td>\n",
       "    </tr>\n",
       "    <tr>\n",
       "      <th>345</th>\n",
       "      <td>20151213</td>\n",
       "    </tr>\n",
       "    <tr>\n",
       "      <th>346</th>\n",
       "      <td>20151214</td>\n",
       "    </tr>\n",
       "    <tr>\n",
       "      <th>347</th>\n",
       "      <td>20151215</td>\n",
       "    </tr>\n",
       "    <tr>\n",
       "      <th>348</th>\n",
       "      <td>20151216</td>\n",
       "    </tr>\n",
       "    <tr>\n",
       "      <th>349</th>\n",
       "      <td>20151217</td>\n",
       "    </tr>\n",
       "    <tr>\n",
       "      <th>350</th>\n",
       "      <td>20151218</td>\n",
       "    </tr>\n",
       "    <tr>\n",
       "      <th>351</th>\n",
       "      <td>20151219</td>\n",
       "    </tr>\n",
       "    <tr>\n",
       "      <th>352</th>\n",
       "      <td>20151220</td>\n",
       "    </tr>\n",
       "    <tr>\n",
       "      <th>353</th>\n",
       "      <td>20151221</td>\n",
       "    </tr>\n",
       "    <tr>\n",
       "      <th>354</th>\n",
       "      <td>20151222</td>\n",
       "    </tr>\n",
       "    <tr>\n",
       "      <th>355</th>\n",
       "      <td>20151223</td>\n",
       "    </tr>\n",
       "    <tr>\n",
       "      <th>356</th>\n",
       "      <td>20151224</td>\n",
       "    </tr>\n",
       "    <tr>\n",
       "      <th>357</th>\n",
       "      <td>20151225</td>\n",
       "    </tr>\n",
       "    <tr>\n",
       "      <th>358</th>\n",
       "      <td>20151226</td>\n",
       "    </tr>\n",
       "    <tr>\n",
       "      <th>359</th>\n",
       "      <td>20151227</td>\n",
       "    </tr>\n",
       "    <tr>\n",
       "      <th>360</th>\n",
       "      <td>20151228</td>\n",
       "    </tr>\n",
       "    <tr>\n",
       "      <th>361</th>\n",
       "      <td>20151229</td>\n",
       "    </tr>\n",
       "    <tr>\n",
       "      <th>362</th>\n",
       "      <td>20151230</td>\n",
       "    </tr>\n",
       "    <tr>\n",
       "      <th>363</th>\n",
       "      <td>20151231</td>\n",
       "    </tr>\n",
       "  </tbody>\n",
       "</table>\n",
       "<p>364 rows × 1 columns</p>\n",
       "</div>"
      ],
      "text/plain": [
       "     datetime\n",
       "0    20150102\n",
       "1    20150103\n",
       "2    20150104\n",
       "3    20150105\n",
       "4    20150106\n",
       "5    20150107\n",
       "6    20150108\n",
       "7    20150109\n",
       "8    20150110\n",
       "9    20150111\n",
       "10   20150112\n",
       "11   20150113\n",
       "12   20150114\n",
       "13   20150115\n",
       "14   20150116\n",
       "15   20150117\n",
       "16   20150118\n",
       "17   20150119\n",
       "18   20150120\n",
       "19   20150121\n",
       "20   20150122\n",
       "21   20150123\n",
       "22   20150124\n",
       "23   20150125\n",
       "24   20150126\n",
       "25   20150127\n",
       "26   20150128\n",
       "27   20150129\n",
       "28   20150130\n",
       "29   20150131\n",
       "..        ...\n",
       "334  20151202\n",
       "335  20151203\n",
       "336  20151204\n",
       "337  20151205\n",
       "338  20151206\n",
       "339  20151207\n",
       "340  20151208\n",
       "341  20151209\n",
       "342  20151210\n",
       "343  20151211\n",
       "344  20151212\n",
       "345  20151213\n",
       "346  20151214\n",
       "347  20151215\n",
       "348  20151216\n",
       "349  20151217\n",
       "350  20151218\n",
       "351  20151219\n",
       "352  20151220\n",
       "353  20151221\n",
       "354  20151222\n",
       "355  20151223\n",
       "356  20151224\n",
       "357  20151225\n",
       "358  20151226\n",
       "359  20151227\n",
       "360  20151228\n",
       "361  20151229\n",
       "362  20151230\n",
       "363  20151231\n",
       "\n",
       "[364 rows x 1 columns]"
      ]
     },
     "execution_count": 13,
     "metadata": {},
     "output_type": "execute_result"
    }
   ],
   "source": [
    "datetimeDF"
   ]
  },
  {
   "cell_type": "markdown",
   "metadata": {},
   "source": [
    "重置原来的meanData索引"
   ]
  },
  {
   "cell_type": "markdown",
   "metadata": {},
   "source": [
    "<font color=\"red\">为了和刚刚生成的日期数据合并，重置均值数据的索引，重置后的索引从0开始</font>"
   ]
  },
  {
   "cell_type": "code",
   "execution_count": 14,
   "metadata": {},
   "outputs": [],
   "source": [
    "meanData.reset_index(inplace=True,drop=True)"
   ]
  },
  {
   "cell_type": "code",
   "execution_count": 15,
   "metadata": {},
   "outputs": [
    {
     "data": {
      "text/html": [
       "<div>\n",
       "<style scoped>\n",
       "    .dataframe tbody tr th:only-of-type {\n",
       "        vertical-align: middle;\n",
       "    }\n",
       "\n",
       "    .dataframe tbody tr th {\n",
       "        vertical-align: top;\n",
       "    }\n",
       "\n",
       "    .dataframe thead th {\n",
       "        text-align: right;\n",
       "    }\n",
       "</style>\n",
       "<table border=\"1\" class=\"dataframe\">\n",
       "  <thead>\n",
       "    <tr style=\"text-align: right;\">\n",
       "      <th></th>\n",
       "      <th>O3</th>\n",
       "    </tr>\n",
       "  </thead>\n",
       "  <tbody>\n",
       "    <tr>\n",
       "      <th>0</th>\n",
       "      <td>20.916667</td>\n",
       "    </tr>\n",
       "    <tr>\n",
       "      <th>1</th>\n",
       "      <td>15.333333</td>\n",
       "    </tr>\n",
       "    <tr>\n",
       "      <th>2</th>\n",
       "      <td>21.833333</td>\n",
       "    </tr>\n",
       "    <tr>\n",
       "      <th>3</th>\n",
       "      <td>14.409091</td>\n",
       "    </tr>\n",
       "    <tr>\n",
       "      <th>4</th>\n",
       "      <td>31.090909</td>\n",
       "    </tr>\n",
       "  </tbody>\n",
       "</table>\n",
       "</div>"
      ],
      "text/plain": [
       "          O3\n",
       "0  20.916667\n",
       "1  15.333333\n",
       "2  21.833333\n",
       "3  14.409091\n",
       "4  31.090909"
      ]
     },
     "execution_count": 15,
     "metadata": {},
     "output_type": "execute_result"
    }
   ],
   "source": [
    "meanData.head()"
   ]
  },
  {
   "cell_type": "markdown",
   "metadata": {},
   "source": [
    "使用pd.concat()合并datetimeDF和meanData"
   ]
  },
  {
   "cell_type": "code",
   "execution_count": 16,
   "metadata": {},
   "outputs": [],
   "source": [
    "newdata = pd.concat([datetimeDF, meanData], axis=1, join_axes=[datetimeDF.index])"
   ]
  },
  {
   "cell_type": "code",
   "execution_count": 17,
   "metadata": {},
   "outputs": [
    {
     "data": {
      "text/html": [
       "<div>\n",
       "<style scoped>\n",
       "    .dataframe tbody tr th:only-of-type {\n",
       "        vertical-align: middle;\n",
       "    }\n",
       "\n",
       "    .dataframe tbody tr th {\n",
       "        vertical-align: top;\n",
       "    }\n",
       "\n",
       "    .dataframe thead th {\n",
       "        text-align: right;\n",
       "    }\n",
       "</style>\n",
       "<table border=\"1\" class=\"dataframe\">\n",
       "  <thead>\n",
       "    <tr style=\"text-align: right;\">\n",
       "      <th></th>\n",
       "      <th>datetime</th>\n",
       "      <th>O3</th>\n",
       "    </tr>\n",
       "  </thead>\n",
       "  <tbody>\n",
       "    <tr>\n",
       "      <th>0</th>\n",
       "      <td>20150102</td>\n",
       "      <td>20.916667</td>\n",
       "    </tr>\n",
       "    <tr>\n",
       "      <th>1</th>\n",
       "      <td>20150103</td>\n",
       "      <td>15.333333</td>\n",
       "    </tr>\n",
       "    <tr>\n",
       "      <th>2</th>\n",
       "      <td>20150104</td>\n",
       "      <td>21.833333</td>\n",
       "    </tr>\n",
       "    <tr>\n",
       "      <th>3</th>\n",
       "      <td>20150105</td>\n",
       "      <td>14.409091</td>\n",
       "    </tr>\n",
       "    <tr>\n",
       "      <th>4</th>\n",
       "      <td>20150106</td>\n",
       "      <td>31.090909</td>\n",
       "    </tr>\n",
       "    <tr>\n",
       "      <th>5</th>\n",
       "      <td>20150107</td>\n",
       "      <td>20.250000</td>\n",
       "    </tr>\n",
       "    <tr>\n",
       "      <th>6</th>\n",
       "      <td>20150108</td>\n",
       "      <td>24.428571</td>\n",
       "    </tr>\n",
       "    <tr>\n",
       "      <th>7</th>\n",
       "      <td>20150109</td>\n",
       "      <td>32.391304</td>\n",
       "    </tr>\n",
       "    <tr>\n",
       "      <th>8</th>\n",
       "      <td>20150110</td>\n",
       "      <td>24.458333</td>\n",
       "    </tr>\n",
       "    <tr>\n",
       "      <th>9</th>\n",
       "      <td>20150111</td>\n",
       "      <td>34.043478</td>\n",
       "    </tr>\n",
       "    <tr>\n",
       "      <th>10</th>\n",
       "      <td>20150112</td>\n",
       "      <td>24.550000</td>\n",
       "    </tr>\n",
       "    <tr>\n",
       "      <th>11</th>\n",
       "      <td>20150113</td>\n",
       "      <td>19.125000</td>\n",
       "    </tr>\n",
       "    <tr>\n",
       "      <th>12</th>\n",
       "      <td>20150114</td>\n",
       "      <td>18.913043</td>\n",
       "    </tr>\n",
       "    <tr>\n",
       "      <th>13</th>\n",
       "      <td>20150115</td>\n",
       "      <td>14.478261</td>\n",
       "    </tr>\n",
       "    <tr>\n",
       "      <th>14</th>\n",
       "      <td>20150116</td>\n",
       "      <td>35.545455</td>\n",
       "    </tr>\n",
       "    <tr>\n",
       "      <th>15</th>\n",
       "      <td>20150117</td>\n",
       "      <td>37.291667</td>\n",
       "    </tr>\n",
       "    <tr>\n",
       "      <th>16</th>\n",
       "      <td>20150118</td>\n",
       "      <td>46.400000</td>\n",
       "    </tr>\n",
       "    <tr>\n",
       "      <th>17</th>\n",
       "      <td>20150119</td>\n",
       "      <td>30.913043</td>\n",
       "    </tr>\n",
       "    <tr>\n",
       "      <th>18</th>\n",
       "      <td>20150120</td>\n",
       "      <td>22.875000</td>\n",
       "    </tr>\n",
       "    <tr>\n",
       "      <th>19</th>\n",
       "      <td>20150121</td>\n",
       "      <td>23.782609</td>\n",
       "    </tr>\n",
       "    <tr>\n",
       "      <th>20</th>\n",
       "      <td>20150122</td>\n",
       "      <td>25.208333</td>\n",
       "    </tr>\n",
       "    <tr>\n",
       "      <th>21</th>\n",
       "      <td>20150123</td>\n",
       "      <td>17.650000</td>\n",
       "    </tr>\n",
       "    <tr>\n",
       "      <th>22</th>\n",
       "      <td>20150124</td>\n",
       "      <td>12.869565</td>\n",
       "    </tr>\n",
       "    <tr>\n",
       "      <th>23</th>\n",
       "      <td>20150125</td>\n",
       "      <td>11.416667</td>\n",
       "    </tr>\n",
       "    <tr>\n",
       "      <th>24</th>\n",
       "      <td>20150126</td>\n",
       "      <td>13.954545</td>\n",
       "    </tr>\n",
       "    <tr>\n",
       "      <th>25</th>\n",
       "      <td>20150127</td>\n",
       "      <td>30.125000</td>\n",
       "    </tr>\n",
       "    <tr>\n",
       "      <th>26</th>\n",
       "      <td>20150128</td>\n",
       "      <td>30.130435</td>\n",
       "    </tr>\n",
       "    <tr>\n",
       "      <th>27</th>\n",
       "      <td>20150129</td>\n",
       "      <td>21.227273</td>\n",
       "    </tr>\n",
       "    <tr>\n",
       "      <th>28</th>\n",
       "      <td>20150130</td>\n",
       "      <td>17.086957</td>\n",
       "    </tr>\n",
       "    <tr>\n",
       "      <th>29</th>\n",
       "      <td>20150131</td>\n",
       "      <td>21.875000</td>\n",
       "    </tr>\n",
       "    <tr>\n",
       "      <th>...</th>\n",
       "      <td>...</td>\n",
       "      <td>...</td>\n",
       "    </tr>\n",
       "    <tr>\n",
       "      <th>334</th>\n",
       "      <td>20151202</td>\n",
       "      <td>34.913043</td>\n",
       "    </tr>\n",
       "    <tr>\n",
       "      <th>335</th>\n",
       "      <td>20151203</td>\n",
       "      <td>31.652174</td>\n",
       "    </tr>\n",
       "    <tr>\n",
       "      <th>336</th>\n",
       "      <td>20151204</td>\n",
       "      <td>26.565217</td>\n",
       "    </tr>\n",
       "    <tr>\n",
       "      <th>337</th>\n",
       "      <td>20151205</td>\n",
       "      <td>7.208333</td>\n",
       "    </tr>\n",
       "    <tr>\n",
       "      <th>338</th>\n",
       "      <td>20151206</td>\n",
       "      <td>10.173913</td>\n",
       "    </tr>\n",
       "    <tr>\n",
       "      <th>339</th>\n",
       "      <td>20151207</td>\n",
       "      <td>9.090909</td>\n",
       "    </tr>\n",
       "    <tr>\n",
       "      <th>340</th>\n",
       "      <td>20151208</td>\n",
       "      <td>21.300000</td>\n",
       "    </tr>\n",
       "    <tr>\n",
       "      <th>341</th>\n",
       "      <td>20151209</td>\n",
       "      <td>19.476190</td>\n",
       "    </tr>\n",
       "    <tr>\n",
       "      <th>342</th>\n",
       "      <td>20151210</td>\n",
       "      <td>8.523810</td>\n",
       "    </tr>\n",
       "    <tr>\n",
       "      <th>343</th>\n",
       "      <td>20151211</td>\n",
       "      <td>35.000000</td>\n",
       "    </tr>\n",
       "    <tr>\n",
       "      <th>344</th>\n",
       "      <td>20151212</td>\n",
       "      <td>20.590909</td>\n",
       "    </tr>\n",
       "    <tr>\n",
       "      <th>345</th>\n",
       "      <td>20151213</td>\n",
       "      <td>13.555556</td>\n",
       "    </tr>\n",
       "    <tr>\n",
       "      <th>346</th>\n",
       "      <td>20151214</td>\n",
       "      <td>38.230769</td>\n",
       "    </tr>\n",
       "    <tr>\n",
       "      <th>347</th>\n",
       "      <td>20151215</td>\n",
       "      <td>51.625000</td>\n",
       "    </tr>\n",
       "    <tr>\n",
       "      <th>348</th>\n",
       "      <td>20151216</td>\n",
       "      <td>41.583333</td>\n",
       "    </tr>\n",
       "    <tr>\n",
       "      <th>349</th>\n",
       "      <td>20151217</td>\n",
       "      <td>15.565217</td>\n",
       "    </tr>\n",
       "    <tr>\n",
       "      <th>350</th>\n",
       "      <td>20151218</td>\n",
       "      <td>12.250000</td>\n",
       "    </tr>\n",
       "    <tr>\n",
       "      <th>351</th>\n",
       "      <td>20151219</td>\n",
       "      <td>14.000000</td>\n",
       "    </tr>\n",
       "    <tr>\n",
       "      <th>352</th>\n",
       "      <td>20151220</td>\n",
       "      <td>15.958333</td>\n",
       "    </tr>\n",
       "    <tr>\n",
       "      <th>353</th>\n",
       "      <td>20151221</td>\n",
       "      <td>16.708333</td>\n",
       "    </tr>\n",
       "    <tr>\n",
       "      <th>354</th>\n",
       "      <td>20151222</td>\n",
       "      <td>17.956522</td>\n",
       "    </tr>\n",
       "    <tr>\n",
       "      <th>355</th>\n",
       "      <td>20151223</td>\n",
       "      <td>7.666667</td>\n",
       "    </tr>\n",
       "    <tr>\n",
       "      <th>356</th>\n",
       "      <td>20151224</td>\n",
       "      <td>18.000000</td>\n",
       "    </tr>\n",
       "    <tr>\n",
       "      <th>357</th>\n",
       "      <td>20151225</td>\n",
       "      <td>30.583333</td>\n",
       "    </tr>\n",
       "    <tr>\n",
       "      <th>358</th>\n",
       "      <td>20151226</td>\n",
       "      <td>24.458333</td>\n",
       "    </tr>\n",
       "    <tr>\n",
       "      <th>359</th>\n",
       "      <td>20151227</td>\n",
       "      <td>24.041667</td>\n",
       "    </tr>\n",
       "    <tr>\n",
       "      <th>360</th>\n",
       "      <td>20151228</td>\n",
       "      <td>10.333333</td>\n",
       "    </tr>\n",
       "    <tr>\n",
       "      <th>361</th>\n",
       "      <td>20151229</td>\n",
       "      <td>30.041667</td>\n",
       "    </tr>\n",
       "    <tr>\n",
       "      <th>362</th>\n",
       "      <td>20151230</td>\n",
       "      <td>25.625000</td>\n",
       "    </tr>\n",
       "    <tr>\n",
       "      <th>363</th>\n",
       "      <td>20151231</td>\n",
       "      <td>22.958333</td>\n",
       "    </tr>\n",
       "  </tbody>\n",
       "</table>\n",
       "<p>364 rows × 2 columns</p>\n",
       "</div>"
      ],
      "text/plain": [
       "     datetime         O3\n",
       "0    20150102  20.916667\n",
       "1    20150103  15.333333\n",
       "2    20150104  21.833333\n",
       "3    20150105  14.409091\n",
       "4    20150106  31.090909\n",
       "5    20150107  20.250000\n",
       "6    20150108  24.428571\n",
       "7    20150109  32.391304\n",
       "8    20150110  24.458333\n",
       "9    20150111  34.043478\n",
       "10   20150112  24.550000\n",
       "11   20150113  19.125000\n",
       "12   20150114  18.913043\n",
       "13   20150115  14.478261\n",
       "14   20150116  35.545455\n",
       "15   20150117  37.291667\n",
       "16   20150118  46.400000\n",
       "17   20150119  30.913043\n",
       "18   20150120  22.875000\n",
       "19   20150121  23.782609\n",
       "20   20150122  25.208333\n",
       "21   20150123  17.650000\n",
       "22   20150124  12.869565\n",
       "23   20150125  11.416667\n",
       "24   20150126  13.954545\n",
       "25   20150127  30.125000\n",
       "26   20150128  30.130435\n",
       "27   20150129  21.227273\n",
       "28   20150130  17.086957\n",
       "29   20150131  21.875000\n",
       "..        ...        ...\n",
       "334  20151202  34.913043\n",
       "335  20151203  31.652174\n",
       "336  20151204  26.565217\n",
       "337  20151205   7.208333\n",
       "338  20151206  10.173913\n",
       "339  20151207   9.090909\n",
       "340  20151208  21.300000\n",
       "341  20151209  19.476190\n",
       "342  20151210   8.523810\n",
       "343  20151211  35.000000\n",
       "344  20151212  20.590909\n",
       "345  20151213  13.555556\n",
       "346  20151214  38.230769\n",
       "347  20151215  51.625000\n",
       "348  20151216  41.583333\n",
       "349  20151217  15.565217\n",
       "350  20151218  12.250000\n",
       "351  20151219  14.000000\n",
       "352  20151220  15.958333\n",
       "353  20151221  16.708333\n",
       "354  20151222  17.956522\n",
       "355  20151223   7.666667\n",
       "356  20151224  18.000000\n",
       "357  20151225  30.583333\n",
       "358  20151226  24.458333\n",
       "359  20151227  24.041667\n",
       "360  20151228  10.333333\n",
       "361  20151229  30.041667\n",
       "362  20151230  25.625000\n",
       "363  20151231  22.958333\n",
       "\n",
       "[364 rows x 2 columns]"
      ]
     },
     "execution_count": 17,
     "metadata": {},
     "output_type": "execute_result"
    }
   ],
   "source": [
    "newdata"
   ]
  },
  {
   "cell_type": "markdown",
   "metadata": {},
   "source": [
    "<font size=4>4. 时间的处理</font>"
   ]
  },
  {
   "cell_type": "code",
   "execution_count": 18,
   "metadata": {},
   "outputs": [],
   "source": [
    "newdata[\"datetime\"] = pd.to_datetime(newdata[\"datetime\"], format=\"%Y%m%d\")"
   ]
  },
  {
   "cell_type": "code",
   "execution_count": 19,
   "metadata": {},
   "outputs": [],
   "source": [
    "newdata[\"year\"] = pd.DatetimeIndex(newdata.datetime).year\n",
    "newdata[\"month\"] = pd.DatetimeIndex(newdata.datetime).month\n",
    "newdata[\"day\"] = pd.DatetimeIndex(newdata.datetime).day"
   ]
  },
  {
   "cell_type": "code",
   "execution_count": 20,
   "metadata": {},
   "outputs": [],
   "source": [
    "newdata = newdata.set_index(\"datetime\")\n",
    "#存储索引，以便后期绘图\n",
    "dataIndex = newdata.index"
   ]
  },
  {
   "cell_type": "markdown",
   "metadata": {},
   "source": [
    "<font size=4>5.调整一下数据的位置</font>"
   ]
  },
  {
   "cell_type": "code",
   "execution_count": 21,
   "metadata": {},
   "outputs": [],
   "source": [
    "orderlist = [\"year\", \"month\", \"day\", \"O3\"]"
   ]
  },
  {
   "cell_type": "code",
   "execution_count": 22,
   "metadata": {},
   "outputs": [
    {
     "data": {
      "text/html": [
       "<div>\n",
       "<style scoped>\n",
       "    .dataframe tbody tr th:only-of-type {\n",
       "        vertical-align: middle;\n",
       "    }\n",
       "\n",
       "    .dataframe tbody tr th {\n",
       "        vertical-align: top;\n",
       "    }\n",
       "\n",
       "    .dataframe thead th {\n",
       "        text-align: right;\n",
       "    }\n",
       "</style>\n",
       "<table border=\"1\" class=\"dataframe\">\n",
       "  <thead>\n",
       "    <tr style=\"text-align: right;\">\n",
       "      <th></th>\n",
       "      <th>year</th>\n",
       "      <th>month</th>\n",
       "      <th>day</th>\n",
       "      <th>O3</th>\n",
       "    </tr>\n",
       "    <tr>\n",
       "      <th>datetime</th>\n",
       "      <th></th>\n",
       "      <th></th>\n",
       "      <th></th>\n",
       "      <th></th>\n",
       "    </tr>\n",
       "  </thead>\n",
       "  <tbody>\n",
       "    <tr>\n",
       "      <th>2015-01-02</th>\n",
       "      <td>2015</td>\n",
       "      <td>1</td>\n",
       "      <td>2</td>\n",
       "      <td>20.916667</td>\n",
       "    </tr>\n",
       "    <tr>\n",
       "      <th>2015-01-03</th>\n",
       "      <td>2015</td>\n",
       "      <td>1</td>\n",
       "      <td>3</td>\n",
       "      <td>15.333333</td>\n",
       "    </tr>\n",
       "    <tr>\n",
       "      <th>2015-01-04</th>\n",
       "      <td>2015</td>\n",
       "      <td>1</td>\n",
       "      <td>4</td>\n",
       "      <td>21.833333</td>\n",
       "    </tr>\n",
       "    <tr>\n",
       "      <th>2015-01-05</th>\n",
       "      <td>2015</td>\n",
       "      <td>1</td>\n",
       "      <td>5</td>\n",
       "      <td>14.409091</td>\n",
       "    </tr>\n",
       "    <tr>\n",
       "      <th>2015-01-06</th>\n",
       "      <td>2015</td>\n",
       "      <td>1</td>\n",
       "      <td>6</td>\n",
       "      <td>31.090909</td>\n",
       "    </tr>\n",
       "  </tbody>\n",
       "</table>\n",
       "</div>"
      ],
      "text/plain": [
       "            year  month  day         O3\n",
       "datetime                               \n",
       "2015-01-02  2015      1    2  20.916667\n",
       "2015-01-03  2015      1    3  15.333333\n",
       "2015-01-04  2015      1    4  21.833333\n",
       "2015-01-05  2015      1    5  14.409091\n",
       "2015-01-06  2015      1    6  31.090909"
      ]
     },
     "execution_count": 22,
     "metadata": {},
     "output_type": "execute_result"
    }
   ],
   "source": [
    "newdata = newdata[orderlist]\n",
    "newdata.head()"
   ]
  },
  {
   "cell_type": "markdown",
   "metadata": {},
   "source": [
    "<font size=4>6.查看以天为分隔的O3均值数据</font>"
   ]
  },
  {
   "cell_type": "code",
   "execution_count": 23,
   "metadata": {},
   "outputs": [],
   "source": [
    "plt.figure(figsize=(25,10))\n",
    "xticks = pd.date_range(start=dataIndex.min(), end = dataIndex.max(), freq=\"m\")\n",
    "plt.xticks(xticks, xticks.strftime(\"%Y/%m\"), rotation=75, ha=\"right\")\n",
    "plt.plot(newdata[\"O3\"], linewidth=1, alpha=0.9)\n",
    "plt.xlabel(\"Time\")\n",
    "plt.ylabel(\"scaler quantity\")\n",
    "plt.title(\"the mean value trend of O3 in 2015\")\n",
    "plt.show()"
   ]
  },
  {
   "cell_type": "markdown",
   "metadata": {},
   "source": [
    "**<font size=4>ⅡK均距异常因子检测</font>**"
   ]
  },
  {
   "cell_type": "markdown",
   "metadata": {},
   "source": [
    "**<font size=4>1. 计算边缘权重因子</font>**"
   ]
  },
  {
   "cell_type": "markdown",
   "metadata": {},
   "source": [
    "**<font size=3 color=\"blue\">用于确定子时间序列的边界点</font>**"
   ]
  },
  {
   "cell_type": "code",
   "execution_count": 24,
   "metadata": {},
   "outputs": [],
   "source": [
    "import numpy as np"
   ]
  },
  {
   "cell_type": "markdown",
   "metadata": {},
   "source": [
    "**<font color=\"red\">注意：滑动窗口的宽度和大小表示的含义有所不同</font>**"
   ]
  },
  {
   "cell_type": "markdown",
   "metadata": {},
   "source": [
    "滑动窗口的宽度为7，表示向后一共滑动7次，每次一步"
   ]
  },
  {
   "cell_type": "code",
   "execution_count": 25,
   "metadata": {},
   "outputs": [],
   "source": [
    "#假设将检测窗口的宽度设置为7（即一周）\n",
    "w = 7"
   ]
  },
  {
   "cell_type": "markdown",
   "metadata": {},
   "source": [
    "滑动窗口的大小为7，表示一个滑动窗口包含7条数据"
   ]
  },
  {
   "cell_type": "code",
   "execution_count": 26,
   "metadata": {},
   "outputs": [],
   "source": [
    "#滑动窗口的大小为\n",
    "windowsize=7"
   ]
  },
  {
   "cell_type": "code",
   "execution_count": 27,
   "metadata": {},
   "outputs": [],
   "source": [
    "datatest = newdata[\"O3\"]"
   ]
  },
  {
   "cell_type": "code",
   "execution_count": 28,
   "metadata": {},
   "outputs": [
    {
     "data": {
      "text/plain": [
       "datetime\n",
       "2015-01-02    20.916667\n",
       "2015-01-03    15.333333\n",
       "2015-01-04    21.833333\n",
       "2015-01-05    14.409091\n",
       "2015-01-06    31.090909\n",
       "Name: O3, dtype: float64"
      ]
     },
     "execution_count": 28,
     "metadata": {},
     "output_type": "execute_result"
    }
   ],
   "source": [
    "datatest.head()"
   ]
  },
  {
   "cell_type": "code",
   "execution_count": 29,
   "metadata": {},
   "outputs": [],
   "source": [
    "testarray = datatest.values"
   ]
  },
  {
   "cell_type": "code",
   "execution_count": 30,
   "metadata": {
    "scrolled": true
   },
   "outputs": [
    {
     "data": {
      "text/plain": [
       "array([ 20.91666667,  15.33333333,  21.83333333,  14.40909091,\n",
       "        31.09090909,  20.25      ,  24.42857143,  32.39130435,\n",
       "        24.45833333,  34.04347826,  24.55      ,  19.125     ,\n",
       "        18.91304348,  14.47826087,  35.54545455,  37.29166667,\n",
       "        46.4       ,  30.91304348,  22.875     ,  23.7826087 ,\n",
       "        25.20833333,  17.65      ,  12.86956522,  11.41666667,\n",
       "        13.95454545,  30.125     ,  30.13043478,  21.22727273,\n",
       "        17.08695652,  21.875     ,  25.29166667,  17.33333333,\n",
       "        19.34782609,  25.04347826,  20.95652174,  25.56521739,\n",
       "        32.30434783,  33.91666667,  37.04166667,  41.08333333,\n",
       "        49.82608696,  29.5       ,  43.2173913 ,  35.65217391,\n",
       "        40.54166667,  37.16666667,  41.58333333,  49.54166667,\n",
       "        49.95833333,  38.95833333,  36.08695652,  47.56521739,\n",
       "        22.95454545,  18.36363636,  33.69565217,  48.5       ,\n",
       "        37.66666667,  32.25      ,  37.625     ,  26.04347826,\n",
       "        53.33333333,  46.08695652,  48.79166667,  47.125     ,\n",
       "        42.08695652,  36.7826087 ,  42.29166667,  40.52173913,\n",
       "        40.54545455,  48.85714286,  51.66666667,  43.45833333,\n",
       "        28.34782609,  38.81818182,  26.45833333,  41.08695652,\n",
       "        15.2173913 ,  26.33333333,  49.70833333,  42.79166667,\n",
       "        34.04166667,  41.69565217,  46.66666667,  61.16666667,\n",
       "        57.26086957,  59.71428571,  71.18181818,  78.41666667,\n",
       "        27.83333333,  65.69565217,  39.54166667,  56.        ,\n",
       "        79.41666667,  22.625     ,  44.16666667,  62.16666667,\n",
       "        48.31818182,  57.95652174,  55.28571429,  52.5       ,\n",
       "        70.81818182,  53.0952381 ,  68.52631579,  65.29166667,\n",
       "        67.26086957,  36.82608696,  17.3       ,  75.61538462,\n",
       "        62.90909091,  45.81818182,  68.61904762,  71.20833333,\n",
       "        72.85714286,  77.22727273, 101.22727273,  97.95833333,\n",
       "        86.61904762, 128.47619048, 109.77272727,  61.91304348,\n",
       "        89.52173913,  57.45454545,  87.        ,  81.47826087,\n",
       "        62.47826087,  78.83333333,  86.92307692,  58.27272727,\n",
       "        34.60869565,  70.56521739,  79.30434783,  65.45454545,\n",
       "        55.28571429,  92.86363636, 105.36363636,  87.80952381,\n",
       "        95.81818182, 114.        ,  90.18181818,  60.16666667,\n",
       "        87.09090909,  90.82608696, 127.08695652, 138.43478261,\n",
       "        87.7       , 110.        ,  98.57142857,  55.52173913,\n",
       "        87.68181818, 115.33333333,  73.71428571,  79.33333333,\n",
       "       102.30434783,  55.61904762,  65.77272727,  70.25      ,\n",
       "       145.86956522, 103.19047619, 122.75      , 108.85714286,\n",
       "        86.13043478,  85.7826087 , 110.33333333, 139.34782609,\n",
       "        65.95652174, 108.36363636, 133.36363636, 124.57894737,\n",
       "       117.14285714, 103.75      , 114.125     , 129.13043478,\n",
       "        95.75      ,  77.16666667,  70.08695652,  61.43478261,\n",
       "        48.60869565,  59.        ,  45.5       ,  88.22727273,\n",
       "        65.33333333,  74.84210526,  85.61904762,  86.08333333,\n",
       "        97.43478261,  97.41666667,  80.        ,  98.        ,\n",
       "       108.08333333,  87.95833333,  50.375     ,  61.5       ,\n",
       "        76.875     ,  99.83333333,  80.18181818,  94.35294118,\n",
       "        78.45833333,  63.04761905,  61.56521739,  53.56521739,\n",
       "        99.53333333,  51.79166667,  62.375     , 104.66666667,\n",
       "       113.20833333,  73.04166667,  67.66666667,  64.69565217,\n",
       "        70.54166667,  70.        ,  50.25      ,  48.125     ,\n",
       "        66.16666667,  58.        ,  65.95833333,  44.63636364,\n",
       "        70.25      ,  74.16666667,  85.25      ,  62.625     ,\n",
       "        57.75      ,  89.04347826,  55.        ,  73.83333333,\n",
       "        78.39130435,  89.04347826,  93.33333333,  91.45833333,\n",
       "        46.375     ,  60.5       ,  64.08695652,  97.79166667,\n",
       "        98.04545455,  86.75      ,  80.16666667,  90.19047619,\n",
       "        97.85      ,  77.        ,  73.57142857,  62.34782609,\n",
       "        74.47826087,  80.69565217,  82.08695652,  69.26086957,\n",
       "        54.59090909,  68.14285714,  65.54166667,  58.83333333,\n",
       "        70.65217391,  61.08695652,  57.08333333,  86.0952381 ,\n",
       "        38.36363636,  40.79166667,  31.69565217,  61.60869565,\n",
       "        66.04347826,  55.18181818,  56.13636364,  58.5       ,\n",
       "        17.16666667,  84.14285714,  76.41666667,  53.7826087 ,\n",
       "        61.56521739,  47.0952381 ,  69.25      ,  74.25      ,\n",
       "        67.41666667,  56.22727273,  48.30434783,  43.04166667,\n",
       "        60.19047619,  45.91304348,  35.30434783,  33.22727273,\n",
       "        73.45833333,  63.31818182,  67.95652174,  30.47619048,\n",
       "        42.52380952,  37.60869565,  36.41666667,  38.86363636,\n",
       "        53.78947368,  61.39130435,  60.        ,  69.54166667,\n",
       "        91.47826087,  52.65217391,  42.66666667,  54.91304348,\n",
       "        44.08695652,   8.25      ,   9.91304348,  39.79166667,\n",
       "        14.375     ,  25.875     ,  32.7826087 ,  22.81818182,\n",
       "        26.69565217,  20.86956522,   6.34782609,  24.60869565,\n",
       "        29.52380952,  43.91304348,  31.56521739,  17.63636364,\n",
       "        24.2       ,  21.33333333,  13.875     ,   4.7       ,\n",
       "        15.82608696,  14.08695652,  17.125     ,  27.71428571,\n",
       "         9.70833333,   4.54166667,   8.95833333,  17.79166667,\n",
       "        23.86956522,   6.08333333,   5.33333333,   3.58333333,\n",
       "        11.875     ,  25.26086957,  46.13043478,  22.52173913,\n",
       "        33.95454545,  13.875     ,   6.82608696,   5.        ,\n",
       "         6.        ,   6.76190476,  34.91304348,  31.65217391,\n",
       "        26.56521739,   7.20833333,  10.17391304,   9.09090909,\n",
       "        21.3       ,  19.47619048,   8.52380952,  35.        ,\n",
       "        20.59090909,  13.55555556,  38.23076923,  51.625     ,\n",
       "        41.58333333,  15.56521739,  12.25      ,  14.        ,\n",
       "        15.95833333,  16.70833333,  17.95652174,   7.66666667,\n",
       "        18.        ,  30.58333333,  24.45833333,  24.04166667,\n",
       "        10.33333333,  30.04166667,  25.625     ,  22.95833333])"
      ]
     },
     "execution_count": 30,
     "metadata": {},
     "output_type": "execute_result"
    }
   ],
   "source": [
    "testarray"
   ]
  },
  {
   "cell_type": "markdown",
   "metadata": {},
   "source": [
    "定义一个ndarray，存储下该数据在滑动窗口中成为极值的次数"
   ]
  },
  {
   "cell_type": "code",
   "execution_count": 31,
   "metadata": {},
   "outputs": [],
   "source": [
    "countnum = np.zeros_like(testarray)"
   ]
  },
  {
   "cell_type": "code",
   "execution_count": 32,
   "metadata": {},
   "outputs": [
    {
     "data": {
      "text/plain": [
       "array([0., 0., 0., 0., 0., 0., 0., 0., 0., 0., 0., 0., 0., 0., 0., 0., 0.,\n",
       "       0., 0., 0., 0., 0., 0., 0., 0., 0., 0., 0., 0., 0., 0., 0., 0., 0.,\n",
       "       0., 0., 0., 0., 0., 0., 0., 0., 0., 0., 0., 0., 0., 0., 0., 0., 0.,\n",
       "       0., 0., 0., 0., 0., 0., 0., 0., 0., 0., 0., 0., 0., 0., 0., 0., 0.,\n",
       "       0., 0., 0., 0., 0., 0., 0., 0., 0., 0., 0., 0., 0., 0., 0., 0., 0.,\n",
       "       0., 0., 0., 0., 0., 0., 0., 0., 0., 0., 0., 0., 0., 0., 0., 0., 0.,\n",
       "       0., 0., 0., 0., 0., 0., 0., 0., 0., 0., 0., 0., 0., 0., 0., 0., 0.,\n",
       "       0., 0., 0., 0., 0., 0., 0., 0., 0., 0., 0., 0., 0., 0., 0., 0., 0.,\n",
       "       0., 0., 0., 0., 0., 0., 0., 0., 0., 0., 0., 0., 0., 0., 0., 0., 0.,\n",
       "       0., 0., 0., 0., 0., 0., 0., 0., 0., 0., 0., 0., 0., 0., 0., 0., 0.,\n",
       "       0., 0., 0., 0., 0., 0., 0., 0., 0., 0., 0., 0., 0., 0., 0., 0., 0.,\n",
       "       0., 0., 0., 0., 0., 0., 0., 0., 0., 0., 0., 0., 0., 0., 0., 0., 0.,\n",
       "       0., 0., 0., 0., 0., 0., 0., 0., 0., 0., 0., 0., 0., 0., 0., 0., 0.,\n",
       "       0., 0., 0., 0., 0., 0., 0., 0., 0., 0., 0., 0., 0., 0., 0., 0., 0.,\n",
       "       0., 0., 0., 0., 0., 0., 0., 0., 0., 0., 0., 0., 0., 0., 0., 0., 0.,\n",
       "       0., 0., 0., 0., 0., 0., 0., 0., 0., 0., 0., 0., 0., 0., 0., 0., 0.,\n",
       "       0., 0., 0., 0., 0., 0., 0., 0., 0., 0., 0., 0., 0., 0., 0., 0., 0.,\n",
       "       0., 0., 0., 0., 0., 0., 0., 0., 0., 0., 0., 0., 0., 0., 0., 0., 0.,\n",
       "       0., 0., 0., 0., 0., 0., 0., 0., 0., 0., 0., 0., 0., 0., 0., 0., 0.,\n",
       "       0., 0., 0., 0., 0., 0., 0., 0., 0., 0., 0., 0., 0., 0., 0., 0., 0.,\n",
       "       0., 0., 0., 0., 0., 0., 0., 0., 0., 0., 0., 0., 0., 0., 0., 0., 0.,\n",
       "       0., 0., 0., 0., 0., 0., 0.])"
      ]
     },
     "execution_count": 32,
     "metadata": {},
     "output_type": "execute_result"
    }
   ],
   "source": [
    "countnum"
   ]
  },
  {
   "cell_type": "code",
   "execution_count": 33,
   "metadata": {},
   "outputs": [
    {
     "data": {
      "text/plain": [
       "364"
      ]
     },
     "execution_count": 33,
     "metadata": {},
     "output_type": "execute_result"
    }
   ],
   "source": [
    "m = countnum.shape[0]\n",
    "m"
   ]
  },
  {
   "cell_type": "markdown",
   "metadata": {},
   "source": [
    "通常，把收尾两个数据点，直接视为边界点"
   ]
  },
  {
   "cell_type": "code",
   "execution_count": 34,
   "metadata": {},
   "outputs": [],
   "source": [
    "import math"
   ]
  },
  {
   "cell_type": "code",
   "execution_count": 35,
   "metadata": {},
   "outputs": [
    {
     "data": {
      "text/plain": [
       "array([ 20.91666667,  15.33333333,  21.83333333,  14.40909091,\n",
       "        31.09090909,  20.25      ,  24.42857143,  32.39130435,\n",
       "        24.45833333,  34.04347826,  24.55      ,  19.125     ,\n",
       "        18.91304348,  14.47826087,  35.54545455,  37.29166667,\n",
       "        46.4       ,  30.91304348,  22.875     ,  23.7826087 ,\n",
       "        25.20833333,  17.65      ,  12.86956522,  11.41666667,\n",
       "        13.95454545,  30.125     ,  30.13043478,  21.22727273,\n",
       "        17.08695652,  21.875     ,  25.29166667,  17.33333333,\n",
       "        19.34782609,  25.04347826,  20.95652174,  25.56521739,\n",
       "        32.30434783,  33.91666667,  37.04166667,  41.08333333,\n",
       "        49.82608696,  29.5       ,  43.2173913 ,  35.65217391,\n",
       "        40.54166667,  37.16666667,  41.58333333,  49.54166667,\n",
       "        49.95833333,  38.95833333,  36.08695652,  47.56521739,\n",
       "        22.95454545,  18.36363636,  33.69565217,  48.5       ,\n",
       "        37.66666667,  32.25      ,  37.625     ,  26.04347826,\n",
       "        53.33333333,  46.08695652,  48.79166667,  47.125     ,\n",
       "        42.08695652,  36.7826087 ,  42.29166667,  40.52173913,\n",
       "        40.54545455,  48.85714286,  51.66666667,  43.45833333,\n",
       "        28.34782609,  38.81818182,  26.45833333,  41.08695652,\n",
       "        15.2173913 ,  26.33333333,  49.70833333,  42.79166667,\n",
       "        34.04166667,  41.69565217,  46.66666667,  61.16666667,\n",
       "        57.26086957,  59.71428571,  71.18181818,  78.41666667,\n",
       "        27.83333333,  65.69565217,  39.54166667,  56.        ,\n",
       "        79.41666667,  22.625     ,  44.16666667,  62.16666667,\n",
       "        48.31818182,  57.95652174,  55.28571429,  52.5       ,\n",
       "        70.81818182,  53.0952381 ,  68.52631579,  65.29166667,\n",
       "        67.26086957,  36.82608696,  17.3       ,  75.61538462,\n",
       "        62.90909091,  45.81818182,  68.61904762,  71.20833333,\n",
       "        72.85714286,  77.22727273, 101.22727273,  97.95833333,\n",
       "        86.61904762, 128.47619048, 109.77272727,  61.91304348,\n",
       "        89.52173913,  57.45454545,  87.        ,  81.47826087,\n",
       "        62.47826087,  78.83333333,  86.92307692,  58.27272727,\n",
       "        34.60869565,  70.56521739,  79.30434783,  65.45454545,\n",
       "        55.28571429,  92.86363636, 105.36363636,  87.80952381,\n",
       "        95.81818182, 114.        ,  90.18181818,  60.16666667,\n",
       "        87.09090909,  90.82608696, 127.08695652, 138.43478261,\n",
       "        87.7       , 110.        ,  98.57142857,  55.52173913,\n",
       "        87.68181818, 115.33333333,  73.71428571,  79.33333333,\n",
       "       102.30434783,  55.61904762,  65.77272727,  70.25      ,\n",
       "       145.86956522, 103.19047619, 122.75      , 108.85714286,\n",
       "        86.13043478,  85.7826087 , 110.33333333, 139.34782609,\n",
       "        65.95652174, 108.36363636, 133.36363636, 124.57894737,\n",
       "       117.14285714, 103.75      , 114.125     , 129.13043478,\n",
       "        95.75      ,  77.16666667,  70.08695652,  61.43478261,\n",
       "        48.60869565,  59.        ,  45.5       ,  88.22727273,\n",
       "        65.33333333,  74.84210526,  85.61904762,  86.08333333,\n",
       "        97.43478261,  97.41666667,  80.        ,  98.        ,\n",
       "       108.08333333,  87.95833333,  50.375     ,  61.5       ,\n",
       "        76.875     ,  99.83333333,  80.18181818,  94.35294118,\n",
       "        78.45833333,  63.04761905,  61.56521739,  53.56521739,\n",
       "        99.53333333,  51.79166667,  62.375     , 104.66666667,\n",
       "       113.20833333,  73.04166667,  67.66666667,  64.69565217,\n",
       "        70.54166667,  70.        ,  50.25      ,  48.125     ,\n",
       "        66.16666667,  58.        ,  65.95833333,  44.63636364,\n",
       "        70.25      ,  74.16666667,  85.25      ,  62.625     ,\n",
       "        57.75      ,  89.04347826,  55.        ,  73.83333333,\n",
       "        78.39130435,  89.04347826,  93.33333333,  91.45833333,\n",
       "        46.375     ,  60.5       ,  64.08695652,  97.79166667,\n",
       "        98.04545455,  86.75      ,  80.16666667,  90.19047619,\n",
       "        97.85      ,  77.        ,  73.57142857,  62.34782609,\n",
       "        74.47826087,  80.69565217,  82.08695652,  69.26086957,\n",
       "        54.59090909,  68.14285714,  65.54166667,  58.83333333,\n",
       "        70.65217391,  61.08695652,  57.08333333,  86.0952381 ,\n",
       "        38.36363636,  40.79166667,  31.69565217,  61.60869565,\n",
       "        66.04347826,  55.18181818,  56.13636364,  58.5       ,\n",
       "        17.16666667,  84.14285714,  76.41666667,  53.7826087 ,\n",
       "        61.56521739,  47.0952381 ,  69.25      ,  74.25      ,\n",
       "        67.41666667,  56.22727273,  48.30434783,  43.04166667,\n",
       "        60.19047619,  45.91304348,  35.30434783,  33.22727273,\n",
       "        73.45833333,  63.31818182,  67.95652174,  30.47619048,\n",
       "        42.52380952,  37.60869565,  36.41666667,  38.86363636,\n",
       "        53.78947368,  61.39130435,  60.        ,  69.54166667,\n",
       "        91.47826087,  52.65217391,  42.66666667,  54.91304348,\n",
       "        44.08695652,   8.25      ,   9.91304348,  39.79166667,\n",
       "        14.375     ,  25.875     ,  32.7826087 ,  22.81818182,\n",
       "        26.69565217,  20.86956522,   6.34782609,  24.60869565,\n",
       "        29.52380952,  43.91304348,  31.56521739,  17.63636364,\n",
       "        24.2       ,  21.33333333,  13.875     ,   4.7       ,\n",
       "        15.82608696,  14.08695652,  17.125     ,  27.71428571,\n",
       "         9.70833333,   4.54166667,   8.95833333,  17.79166667,\n",
       "        23.86956522,   6.08333333,   5.33333333,   3.58333333,\n",
       "        11.875     ,  25.26086957,  46.13043478,  22.52173913,\n",
       "        33.95454545,  13.875     ,   6.82608696,   5.        ,\n",
       "         6.        ,   6.76190476,  34.91304348,  31.65217391,\n",
       "        26.56521739,   7.20833333,  10.17391304,   9.09090909,\n",
       "        21.3       ,  19.47619048,   8.52380952,  35.        ,\n",
       "        20.59090909,  13.55555556,  38.23076923,  51.625     ,\n",
       "        41.58333333,  15.56521739,  12.25      ,  14.        ,\n",
       "        15.95833333,  16.70833333,  17.95652174,   7.66666667,\n",
       "        18.        ,  30.58333333,  24.45833333,  24.04166667,\n",
       "        10.33333333,  30.04166667,  25.625     ,  22.95833333])"
      ]
     },
     "execution_count": 35,
     "metadata": {},
     "output_type": "execute_result"
    }
   ],
   "source": [
    "testarray"
   ]
  },
  {
   "cell_type": "code",
   "execution_count": 36,
   "metadata": {},
   "outputs": [],
   "source": [
    "for i in range(1,m-w):\n",
    "    num = 0\n",
    "    value = testarray[i]\n",
    "    \n",
    "    for j in range(w):\n",
    "        windowarray = testarray[(i+j):(i+j+w)]\n",
    "        wmin = windowarray.min()\n",
    "        wmax = windowarray.max()\n",
    "    \n",
    "        if abs(wmin-value) < 1: \n",
    "            num -= 1\n",
    "        elif abs(wmax-value) < 1:\n",
    "            num += 1\n",
    "    \n",
    "    countnum[i] = abs(num)"
   ]
  },
  {
   "cell_type": "code",
   "execution_count": 37,
   "metadata": {},
   "outputs": [
    {
     "data": {
      "text/plain": [
       "array([0., 4., 0., 4., 0., 0., 0., 0., 0., 0., 0., 0., 0., 1., 0., 0., 1.,\n",
       "       6., 0., 0., 0., 3., 0., 1., 1., 2., 1., 1., 4., 2., 1., 1., 1., 1.,\n",
       "       1., 1., 0., 0., 1., 0., 7., 1., 0., 3., 0., 0., 0., 2., 1., 0., 0.,\n",
       "       3., 0., 1., 0., 1., 3., 0., 5., 1., 1., 0., 2., 0., 0., 1., 0., 0.,\n",
       "       0., 4., 1., 1., 0., 0., 1., 1., 1., 1., 0., 0., 1., 1., 0., 0., 0.,\n",
       "       0., 0., 0., 0., 0., 0., 0., 1., 1., 1., 0., 1., 0., 0., 0., 1., 0.,\n",
       "       0., 0., 0., 0., 1., 0., 2., 1., 1., 1., 1., 0., 0., 0., 2., 1., 1.,\n",
       "       0., 1., 1., 5., 0., 0., 0., 1., 0., 1., 0., 0., 0., 1., 0., 0., 1.,\n",
       "       0., 0., 0., 1., 1., 0., 0., 1., 0., 0., 0., 7., 0., 1., 0., 0., 0.,\n",
       "       1., 4., 1., 1., 0., 0., 0., 0., 0., 0., 1., 1., 0., 1., 0., 0., 0.,\n",
       "       0., 1., 1., 0., 0., 0., 0., 0., 1., 0., 1., 1., 0., 0., 0., 0., 0.,\n",
       "       0., 1., 0., 1., 2., 0., 4., 0., 0., 0., 1., 1., 0., 0., 1., 1., 0.,\n",
       "       1., 1., 0., 0., 3., 2., 0., 0., 0., 0., 0., 1., 0., 0., 0., 0., 0.,\n",
       "       0., 0., 0., 0., 0., 0., 0., 1., 1., 1., 6., 5., 0., 0., 0., 1., 0.,\n",
       "       0., 0., 0., 0., 1., 0., 1., 0., 1., 0., 0., 0., 0., 1., 0., 0., 0.,\n",
       "       0., 0., 0., 0., 0., 1., 1., 1., 0., 0., 0., 0., 5., 1., 0., 0., 0.,\n",
       "       0., 0., 0., 0., 1., 0., 1., 1., 3., 0., 1., 1., 0., 0., 0., 0., 1.,\n",
       "       0., 0., 1., 1., 1., 1., 1., 0., 0., 1., 0., 0., 0., 1., 2., 0., 1.,\n",
       "       1., 0., 1., 0., 0., 6., 0., 0., 0., 1., 0., 7., 0., 0., 0., 1., 4.,\n",
       "       1., 0., 0., 1., 0., 7., 0., 5., 1., 2., 5., 4., 1., 1., 1., 0., 4.,\n",
       "       0., 0., 1., 0., 0., 0., 0., 1., 1., 0., 0., 0., 0., 0., 0., 1., 0.,\n",
       "       0., 0., 0., 0., 0., 0., 0.])"
      ]
     },
     "execution_count": 37,
     "metadata": {},
     "output_type": "execute_result"
    }
   ],
   "source": [
    "countnum"
   ]
  },
  {
   "cell_type": "markdown",
   "metadata": {},
   "source": [
    "找到windowsize=7为一个单位，找出其中的最大值的下标"
   ]
  },
  {
   "cell_type": "code",
   "execution_count": 38,
   "metadata": {},
   "outputs": [],
   "source": [
    "size = int(countnum.shape[0] / w)"
   ]
  },
  {
   "cell_type": "code",
   "execution_count": 39,
   "metadata": {},
   "outputs": [],
   "source": [
    "indexarray = [0,m-1]"
   ]
  },
  {
   "cell_type": "code",
   "execution_count": 40,
   "metadata": {},
   "outputs": [],
   "source": [
    "for i in range(size):\n",
    "    windowcount = countnum[i*w:(i+1)*w]\n",
    "    maxindex = windowcount.argmax()\n",
    "    \n",
    "    if maxindex == 0:\n",
    "        continue\n",
    "    \n",
    "    indexarray.append(i * w + maxindex)"
   ]
  },
  {
   "cell_type": "code",
   "execution_count": 41,
   "metadata": {},
   "outputs": [
    {
     "data": {
      "text/plain": [
       "[0,\n",
       " 363,\n",
       " 1,\n",
       " 13,\n",
       " 17,\n",
       " 40,\n",
       " 43,\n",
       " 51,\n",
       " 58,\n",
       " 69,\n",
       " 92,\n",
       " 100,\n",
       " 108,\n",
       " 116,\n",
       " 122,\n",
       " 135,\n",
       " 163,\n",
       " 171,\n",
       " 178,\n",
       " 188,\n",
       " 193,\n",
       " 197,\n",
       " 208,\n",
       " 215,\n",
       " 228,\n",
       " 242,\n",
       " 246,\n",
       " 260,\n",
       " 267,\n",
       " 276,\n",
       " 288,\n",
       " 303,\n",
       " 311,\n",
       " 317,\n",
       " 328,\n",
       " 330,\n",
       " 339,\n",
       " 347,\n",
       " 355]"
      ]
     },
     "execution_count": 41,
     "metadata": {},
     "output_type": "execute_result"
    }
   ],
   "source": [
    "indexarray"
   ]
  },
  {
   "cell_type": "code",
   "execution_count": 42,
   "metadata": {},
   "outputs": [],
   "source": [
    "indexarray.sort()"
   ]
  },
  {
   "cell_type": "code",
   "execution_count": 43,
   "metadata": {},
   "outputs": [
    {
     "data": {
      "text/plain": [
       "[0,\n",
       " 1,\n",
       " 13,\n",
       " 17,\n",
       " 40,\n",
       " 43,\n",
       " 51,\n",
       " 58,\n",
       " 69,\n",
       " 92,\n",
       " 100,\n",
       " 108,\n",
       " 116,\n",
       " 122,\n",
       " 135,\n",
       " 163,\n",
       " 171,\n",
       " 178,\n",
       " 188,\n",
       " 193,\n",
       " 197,\n",
       " 208,\n",
       " 215,\n",
       " 228,\n",
       " 242,\n",
       " 246,\n",
       " 260,\n",
       " 267,\n",
       " 276,\n",
       " 288,\n",
       " 303,\n",
       " 311,\n",
       " 317,\n",
       " 328,\n",
       " 330,\n",
       " 339,\n",
       " 347,\n",
       " 355,\n",
       " 363]"
      ]
     },
     "execution_count": 43,
     "metadata": {},
     "output_type": "execute_result"
    }
   ],
   "source": [
    "indexarray"
   ]
  },
  {
   "cell_type": "code",
   "execution_count": 44,
   "metadata": {},
   "outputs": [],
   "source": [
    "piece = pd.DataFrame(newdata.iloc[indexarray][\"O3\"], columns=[\"O3\"])"
   ]
  },
  {
   "cell_type": "code",
   "execution_count": 45,
   "metadata": {},
   "outputs": [
    {
     "data": {
      "text/html": [
       "<div>\n",
       "<style scoped>\n",
       "    .dataframe tbody tr th:only-of-type {\n",
       "        vertical-align: middle;\n",
       "    }\n",
       "\n",
       "    .dataframe tbody tr th {\n",
       "        vertical-align: top;\n",
       "    }\n",
       "\n",
       "    .dataframe thead th {\n",
       "        text-align: right;\n",
       "    }\n",
       "</style>\n",
       "<table border=\"1\" class=\"dataframe\">\n",
       "  <thead>\n",
       "    <tr style=\"text-align: right;\">\n",
       "      <th></th>\n",
       "      <th>O3</th>\n",
       "    </tr>\n",
       "    <tr>\n",
       "      <th>datetime</th>\n",
       "      <th></th>\n",
       "    </tr>\n",
       "  </thead>\n",
       "  <tbody>\n",
       "    <tr>\n",
       "      <th>2015-01-02</th>\n",
       "      <td>20.916667</td>\n",
       "    </tr>\n",
       "    <tr>\n",
       "      <th>2015-01-03</th>\n",
       "      <td>15.333333</td>\n",
       "    </tr>\n",
       "    <tr>\n",
       "      <th>2015-01-15</th>\n",
       "      <td>14.478261</td>\n",
       "    </tr>\n",
       "    <tr>\n",
       "      <th>2015-01-19</th>\n",
       "      <td>30.913043</td>\n",
       "    </tr>\n",
       "    <tr>\n",
       "      <th>2015-02-11</th>\n",
       "      <td>49.826087</td>\n",
       "    </tr>\n",
       "    <tr>\n",
       "      <th>2015-02-14</th>\n",
       "      <td>35.652174</td>\n",
       "    </tr>\n",
       "    <tr>\n",
       "      <th>2015-02-22</th>\n",
       "      <td>47.565217</td>\n",
       "    </tr>\n",
       "    <tr>\n",
       "      <th>2015-03-01</th>\n",
       "      <td>37.625000</td>\n",
       "    </tr>\n",
       "    <tr>\n",
       "      <th>2015-03-12</th>\n",
       "      <td>48.857143</td>\n",
       "    </tr>\n",
       "    <tr>\n",
       "      <th>2015-04-04</th>\n",
       "      <td>79.416667</td>\n",
       "    </tr>\n",
       "    <tr>\n",
       "      <th>2015-04-12</th>\n",
       "      <td>70.818182</td>\n",
       "    </tr>\n",
       "    <tr>\n",
       "      <th>2015-04-20</th>\n",
       "      <td>62.909091</td>\n",
       "    </tr>\n",
       "    <tr>\n",
       "      <th>2015-04-28</th>\n",
       "      <td>86.619048</td>\n",
       "    </tr>\n",
       "    <tr>\n",
       "      <th>2015-05-04</th>\n",
       "      <td>87.000000</td>\n",
       "    </tr>\n",
       "    <tr>\n",
       "      <th>2015-05-17</th>\n",
       "      <td>87.809524</td>\n",
       "    </tr>\n",
       "    <tr>\n",
       "      <th>2015-06-14</th>\n",
       "      <td>139.347826</td>\n",
       "    </tr>\n",
       "    <tr>\n",
       "      <th>2015-06-22</th>\n",
       "      <td>129.130435</td>\n",
       "    </tr>\n",
       "    <tr>\n",
       "      <th>2015-06-29</th>\n",
       "      <td>45.500000</td>\n",
       "    </tr>\n",
       "    <tr>\n",
       "      <th>2015-07-09</th>\n",
       "      <td>108.083333</td>\n",
       "    </tr>\n",
       "    <tr>\n",
       "      <th>2015-07-14</th>\n",
       "      <td>99.833333</td>\n",
       "    </tr>\n",
       "    <tr>\n",
       "      <th>2015-07-18</th>\n",
       "      <td>63.047619</td>\n",
       "    </tr>\n",
       "    <tr>\n",
       "      <th>2015-07-29</th>\n",
       "      <td>70.541667</td>\n",
       "    </tr>\n",
       "    <tr>\n",
       "      <th>2015-08-05</th>\n",
       "      <td>44.636364</td>\n",
       "    </tr>\n",
       "    <tr>\n",
       "      <th>2015-08-18</th>\n",
       "      <td>46.375000</td>\n",
       "    </tr>\n",
       "    <tr>\n",
       "      <th>2015-09-01</th>\n",
       "      <td>82.086957</td>\n",
       "    </tr>\n",
       "    <tr>\n",
       "      <th>2015-09-05</th>\n",
       "      <td>65.541667</td>\n",
       "    </tr>\n",
       "    <tr>\n",
       "      <th>2015-09-19</th>\n",
       "      <td>17.166667</td>\n",
       "    </tr>\n",
       "    <tr>\n",
       "      <th>2015-09-26</th>\n",
       "      <td>74.250000</td>\n",
       "    </tr>\n",
       "    <tr>\n",
       "      <th>2015-10-05</th>\n",
       "      <td>73.458333</td>\n",
       "    </tr>\n",
       "    <tr>\n",
       "      <th>2015-10-17</th>\n",
       "      <td>91.478261</td>\n",
       "    </tr>\n",
       "    <tr>\n",
       "      <th>2015-11-01</th>\n",
       "      <td>24.608696</td>\n",
       "    </tr>\n",
       "    <tr>\n",
       "      <th>2015-11-09</th>\n",
       "      <td>4.700000</td>\n",
       "    </tr>\n",
       "    <tr>\n",
       "      <th>2015-11-15</th>\n",
       "      <td>4.541667</td>\n",
       "    </tr>\n",
       "    <tr>\n",
       "      <th>2015-11-26</th>\n",
       "      <td>33.954545</td>\n",
       "    </tr>\n",
       "    <tr>\n",
       "      <th>2015-11-28</th>\n",
       "      <td>6.826087</td>\n",
       "    </tr>\n",
       "    <tr>\n",
       "      <th>2015-12-07</th>\n",
       "      <td>9.090909</td>\n",
       "    </tr>\n",
       "    <tr>\n",
       "      <th>2015-12-15</th>\n",
       "      <td>51.625000</td>\n",
       "    </tr>\n",
       "    <tr>\n",
       "      <th>2015-12-23</th>\n",
       "      <td>7.666667</td>\n",
       "    </tr>\n",
       "    <tr>\n",
       "      <th>2015-12-31</th>\n",
       "      <td>22.958333</td>\n",
       "    </tr>\n",
       "  </tbody>\n",
       "</table>\n",
       "</div>"
      ],
      "text/plain": [
       "                    O3\n",
       "datetime              \n",
       "2015-01-02   20.916667\n",
       "2015-01-03   15.333333\n",
       "2015-01-15   14.478261\n",
       "2015-01-19   30.913043\n",
       "2015-02-11   49.826087\n",
       "2015-02-14   35.652174\n",
       "2015-02-22   47.565217\n",
       "2015-03-01   37.625000\n",
       "2015-03-12   48.857143\n",
       "2015-04-04   79.416667\n",
       "2015-04-12   70.818182\n",
       "2015-04-20   62.909091\n",
       "2015-04-28   86.619048\n",
       "2015-05-04   87.000000\n",
       "2015-05-17   87.809524\n",
       "2015-06-14  139.347826\n",
       "2015-06-22  129.130435\n",
       "2015-06-29   45.500000\n",
       "2015-07-09  108.083333\n",
       "2015-07-14   99.833333\n",
       "2015-07-18   63.047619\n",
       "2015-07-29   70.541667\n",
       "2015-08-05   44.636364\n",
       "2015-08-18   46.375000\n",
       "2015-09-01   82.086957\n",
       "2015-09-05   65.541667\n",
       "2015-09-19   17.166667\n",
       "2015-09-26   74.250000\n",
       "2015-10-05   73.458333\n",
       "2015-10-17   91.478261\n",
       "2015-11-01   24.608696\n",
       "2015-11-09    4.700000\n",
       "2015-11-15    4.541667\n",
       "2015-11-26   33.954545\n",
       "2015-11-28    6.826087\n",
       "2015-12-07    9.090909\n",
       "2015-12-15   51.625000\n",
       "2015-12-23    7.666667\n",
       "2015-12-31   22.958333"
      ]
     },
     "execution_count": 45,
     "metadata": {},
     "output_type": "execute_result"
    }
   ],
   "source": [
    "piece"
   ]
  },
  {
   "cell_type": "code",
   "execution_count": 46,
   "metadata": {},
   "outputs": [
    {
     "data": {
      "text/plain": [
       "<matplotlib.collections.PathCollection at 0x1328c8d0>"
      ]
     },
     "execution_count": 46,
     "metadata": {},
     "output_type": "execute_result"
    }
   ],
   "source": [
    "plt.scatter(piece.index, piece.O3, color=\"red\")"
   ]
  },
  {
   "cell_type": "markdown",
   "metadata": {},
   "source": [
    "其中，图中的红点就是我们寻找的边缘因子，后期会根据边缘因子对原始时间序列进行切分，划分为长度不一的子序列"
   ]
  },
  {
   "cell_type": "markdown",
   "metadata": {},
   "source": [
    "**<font size=4>2. 计算子序列的特征</font>**"
   ]
  },
  {
   "cell_type": "markdown",
   "metadata": {},
   "source": [
    "子序列特征主要包括：序列长度，序列高度，序列均值，序列标准差"
   ]
  },
  {
   "cell_type": "markdown",
   "metadata": {},
   "source": [
    "**序列长度**:in+1 - in + 1<br>\n",
    "**序列高度**:Xn+1 - Xn两个边缘点的值之差<br>\n",
    "**序列均值**:mean\n",
    "**序列方差**:std"
   ]
  },
  {
   "cell_type": "code",
   "execution_count": 47,
   "metadata": {},
   "outputs": [],
   "source": [
    "featurelist = []"
   ]
  },
  {
   "cell_type": "code",
   "execution_count": 48,
   "metadata": {},
   "outputs": [],
   "source": [
    "for i in range(len(indexarray)-1):\n",
    "    start = indexarray[i]\n",
    "    end = indexarray[i+1]\n",
    "    subsequence = newdata.iloc[start:end+1][\"O3\"]\n",
    "    sequencelength = end - start + 1\n",
    "    sequenceheight = newdata.iloc[end][\"O3\"] -  newdata.iloc[start][\"O3\"]\n",
    "    seqencemean = subsequence.mean()\n",
    "    seqencestd = subsequence.std()\n",
    "    featurelist.append([sequencelength, sequenceheight, seqencemean, seqencestd])"
   ]
  },
  {
   "cell_type": "code",
   "execution_count": 49,
   "metadata": {},
   "outputs": [
    {
     "data": {
      "text/plain": [
       "38"
      ]
     },
     "execution_count": 49,
     "metadata": {},
     "output_type": "execute_result"
    }
   ],
   "source": [
    "len(featurelist)"
   ]
  },
  {
   "cell_type": "code",
   "execution_count": 50,
   "metadata": {},
   "outputs": [
    {
     "data": {
      "text/plain": [
       "39"
      ]
     },
     "execution_count": 50,
     "metadata": {},
     "output_type": "execute_result"
    }
   ],
   "source": [
    "len(indexarray)"
   ]
  },
  {
   "cell_type": "markdown",
   "metadata": {},
   "source": [
    "39个点将序列分隔成38个子序列"
   ]
  },
  {
   "cell_type": "markdown",
   "metadata": {},
   "source": [
    "为了后续便于处理，将存储的序列特征的列表转换为ndarray数组"
   ]
  },
  {
   "cell_type": "code",
   "execution_count": 51,
   "metadata": {},
   "outputs": [],
   "source": [
    "features = np.array(featurelist)"
   ]
  },
  {
   "cell_type": "code",
   "execution_count": 52,
   "metadata": {
    "scrolled": true
   },
   "outputs": [
    {
     "data": {
      "text/plain": [
       "(38, 4)"
      ]
     },
     "execution_count": 52,
     "metadata": {},
     "output_type": "execute_result"
    }
   ],
   "source": [
    "features.shape"
   ]
  },
  {
   "cell_type": "code",
   "execution_count": 53,
   "metadata": {},
   "outputs": [
    {
     "data": {
      "text/plain": [
       "array([[  2.        ,  -5.58333333,  18.125     ,   3.94801286],\n",
       "       [ 13.        ,  -0.85507246,  22.71574295,   6.62684835],\n",
       "       [  5.        ,  16.43478261,  32.92568511,  11.74564106],\n",
       "       [ 24.        ,  18.91304348,  25.28435716,   9.19900092],\n",
       "       [  4.        , -14.17391304,  39.54891304,   8.8551918 ],\n",
       "       [  9.        ,  11.91304348,  41.89492754,   5.71463321],\n",
       "       [  8.        ,  -9.94021739,  34.82758976,  10.58991444],\n",
       "       [ 12.        ,  11.23214286,  42.5075836 ,   7.17846974],\n",
       "       [ 24.        ,  30.55952381,  47.14065735,  16.82554615],\n",
       "       [  9.        ,  -8.59848485,  54.80595552,  16.28892186],\n",
       "       [  9.        ,  -7.90909091,  57.51587049,  18.95789419],\n",
       "       [  9.        ,  23.70995671,  76.04930255,  17.32939091],\n",
       "       [  7.        ,   0.38095238,  88.67961335,  24.92628245],\n",
       "       [ 14.        ,   0.80952381,  74.73149832,  18.25665975],\n",
       "       [ 29.        ,  51.53830228,  96.39580599,  24.39118687],\n",
       "       [  9.        , -10.2173913 , 115.08431776,  21.80202185],\n",
       "       [  8.        , -83.63043478,  73.33469203,  27.70786112],\n",
       "       [ 11.        ,  62.58333333,  84.23089772,  17.58213221],\n",
       "       [  6.        ,  -8.25      ,  80.77083333,  22.23268287],\n",
       "       [  5.        , -36.78571429,  83.17480901,  14.48071117],\n",
       "       [ 12.        ,   7.49404762,  73.8082255 ,  20.425736  ],\n",
       "       [  8.        , -25.90530303,  59.20975379,  10.39079115],\n",
       "       [ 14.        ,   1.73863636,  72.22544937,  16.70301271],\n",
       "       [ 15.        ,  35.71195652,  78.12908965,  15.16364569],\n",
       "       [  5.        , -16.54528986,  67.9246518 ,   9.82180329],\n",
       "       [ 15.        , -48.375     ,  54.98537863,  16.92719788],\n",
       "       [  8.        ,  57.08333333,  60.45865683,  21.31954084],\n",
       "       [ 10.        ,  -0.79166667,  53.73334274,  14.94518078],\n",
       "       [ 13.        ,  18.01992754,  55.90944163,  17.89253068],\n",
       "       [ 16.        , -66.86956522,  32.38277133,  21.84350439],\n",
       "       [  9.        , -19.90869565,  23.48394034,  11.20770127],\n",
       "       [  7.        ,  -0.15833333,  13.38604703,   8.09237622],\n",
       "       [ 12.        ,  29.41287879,  17.49198507,  13.35228699],\n",
       "       [  3.        , -27.1284585 ,  18.21854414,  14.07615348],\n",
       "       [ 10.        ,   2.26482213,  14.4191582 ,  11.73220774],\n",
       "       [  9.        ,  42.53409091,  24.15479366,  14.5632088 ],\n",
       "       [  9.        , -43.95833333,  21.47926731,  14.77105983],\n",
       "       [  9.        ,  15.29166667,  21.52314815,   8.04768533]])"
      ]
     },
     "execution_count": 53,
     "metadata": {},
     "output_type": "execute_result"
    }
   ],
   "source": [
    "features"
   ]
  },
  {
   "cell_type": "markdown",
   "metadata": {},
   "source": [
    "**<font size=4>3. 标准化特征</font>**"
   ]
  },
  {
   "cell_type": "markdown",
   "metadata": {},
   "source": [
    "先尝试使用MinMaxScaler对数据进行标准化"
   ]
  },
  {
   "cell_type": "code",
   "execution_count": 54,
   "metadata": {},
   "outputs": [],
   "source": [
    "from sklearn.preprocessing import MinMaxScaler"
   ]
  },
  {
   "cell_type": "code",
   "execution_count": 55,
   "metadata": {},
   "outputs": [],
   "source": [
    "scaler = MinMaxScaler()"
   ]
  },
  {
   "cell_type": "code",
   "execution_count": 56,
   "metadata": {},
   "outputs": [],
   "source": [
    "features_scaled = scaler.fit_transform(features)"
   ]
  },
  {
   "cell_type": "code",
   "execution_count": 57,
   "metadata": {},
   "outputs": [
    {
     "data": {
      "text/plain": [
       "array([[0.        , 0.53378763, 0.04659817, 0.        ],\n",
       "       [0.40740741, 0.56612563, 0.09173898, 0.11274632],\n",
       "       [0.11111111, 0.68437616, 0.19213343, 0.3281851 ],\n",
       "       [0.81481481, 0.70132573, 0.11699619, 0.22100259],\n",
       "       [0.07407407, 0.47503407, 0.25725969, 0.20653242],\n",
       "       [0.25925926, 0.65345063, 0.28032808, 0.07435318],\n",
       "       [0.22222222, 0.50398959, 0.21083488, 0.2795431 ],\n",
       "       [0.37037037, 0.64879374, 0.28635233, 0.13596286],\n",
       "       [0.81481481, 0.78097952, 0.33190938, 0.54198719],\n",
       "       [0.25925926, 0.51316611, 0.40728233, 0.51940184],\n",
       "       [0.25925926, 0.51788108, 0.43392895, 0.63173305],\n",
       "       [0.25925926, 0.73413327, 0.61616835, 0.56319291],\n",
       "       [0.18518519, 0.57457918, 0.74036231, 0.88292944],\n",
       "       [0.44444444, 0.57751031, 0.60321037, 0.60221962],\n",
       "       [1.        , 0.92445971, 0.8162357 , 0.86040844],\n",
       "       [0.25925926, 0.50209392, 1.        , 0.75143615],\n",
       "       [0.22222222, 0.        , 0.58947556, 1.        ],\n",
       "       [0.33333333, 1.        , 0.69661805, 0.57383024],\n",
       "       [0.14814815, 0.5155495 , 0.6625952 , 0.76956173],\n",
       "       [0.11111111, 0.32038515, 0.68623352, 0.44329821],\n",
       "       [0.37037037, 0.62322778, 0.59413182, 0.6935113 ],\n",
       "       [0.22222222, 0.39479956, 0.45058492, 0.27116243],\n",
       "       [0.44444444, 0.58386479, 0.57856837, 0.53683002],\n",
       "       [0.48148148, 0.81621856, 0.63661891, 0.47204143],\n",
       "       [0.11111111, 0.45881551, 0.53627859, 0.24721498],\n",
       "       [0.48148148, 0.24112254, 0.4090466 , 0.54626548],\n",
       "       [0.22222222, 0.96238384, 0.46286539, 0.73112958],\n",
       "       [0.2962963 , 0.56655929, 0.39673532, 0.46284672],\n",
       "       [0.40740741, 0.69521745, 0.41813292, 0.58689423],\n",
       "       [0.51851852, 0.11463264, 0.18679496, 0.75318206],\n",
       "       [0.25925926, 0.43581217, 0.09929267, 0.30554439],\n",
       "       [0.18518519, 0.57089084, 0.        , 0.17442718],\n",
       "       [0.37037037, 0.77313727, 0.04037373, 0.39580531],\n",
       "       [0.03703704, 0.38643403, 0.04751799, 0.42627127],\n",
       "       [0.2962963 , 0.58746353, 0.01015859, 0.32761972],\n",
       "       [0.25925926, 0.86287719, 0.10588918, 0.44677036],\n",
       "       [0.25925926, 0.27132945, 0.07958071, 0.45551835],\n",
       "       [0.25925926, 0.67655805, 0.08001219, 0.17254624]])"
      ]
     },
     "execution_count": 57,
     "metadata": {},
     "output_type": "execute_result"
    }
   ],
   "source": [
    "features_scaled"
   ]
  },
  {
   "cell_type": "code",
   "execution_count": 58,
   "metadata": {},
   "outputs": [
    {
     "data": {
      "text/plain": [
       "array([0.11111111, 0.68437616, 0.19213343, 0.3281851 ])"
      ]
     },
     "execution_count": 58,
     "metadata": {},
     "output_type": "execute_result"
    }
   ],
   "source": [
    "features_scaled[2]"
   ]
  },
  {
   "cell_type": "markdown",
   "metadata": {},
   "source": [
    "**<font size=4>4. 相关函数定义</font>**"
   ]
  },
  {
   "cell_type": "markdown",
   "metadata": {},
   "source": [
    "定义距离计算函数，这里使用欧式距离"
   ]
  },
  {
   "cell_type": "code",
   "execution_count": 59,
   "metadata": {},
   "outputs": [],
   "source": [
    "def distance(p,q):\n",
    "    dist = 0\n",
    "    for i in range(4):\n",
    "        dist += (p[i] - q[i]) ** 2\n",
    "    np.sqrt(dist)\n",
    "    return dist"
   ]
  },
  {
   "cell_type": "code",
   "execution_count": 60,
   "metadata": {},
   "outputs": [],
   "source": [
    "def K_dist(data, k, pindex):\n",
    "    m = data.shape[0]\n",
    "    p = data[pindex]\n",
    "    distanceslist = []\n",
    "    \n",
    "    for i in range(m):\n",
    "        if i == pindex:\n",
    "            continue\n",
    "        q = data[i]\n",
    "        distanceslist.append(distance(p,q))\n",
    "    \n",
    "    distarray = np.array(distanceslist).reshape(-1,1)\n",
    "    scaler = MinMaxScaler()\n",
    "    distarrayscaled = scaler.fit_transform(distarray)\n",
    "    distarrayscaled = distarrayscaled.reshape(1,-1).ravel()\n",
    "\n",
    "    sortIndex = distarrayscaled.argsort()\n",
    "    pmax = distarrayscaled[sortIndex[m-2]]\n",
    "    sumkdist = 0 \n",
    "    \n",
    "    for j in range(k):\n",
    "        jth = distarrayscaled[sortIndex[j]]\n",
    "        sumkdist += jth\n",
    "    \n",
    "    meankdist = sumkdist / k\n",
    "        \n",
    "    return meankdist + pmax\n"
   ]
  },
  {
   "cell_type": "markdown",
   "metadata": {},
   "source": [
    "ndarray.argsort()返回ndarray数组中从小到大排序的下标"
   ]
  },
  {
   "cell_type": "markdown",
   "metadata": {},
   "source": [
    "查看每个序列的KMDOF，K均距异常因子"
   ]
  },
  {
   "cell_type": "code",
   "execution_count": 61,
   "metadata": {},
   "outputs": [],
   "source": [
    "#seqnum为序列数\n",
    "seqnum = features_scaled.shape[0]"
   ]
  },
  {
   "cell_type": "code",
   "execution_count": 62,
   "metadata": {
    "scrolled": true
   },
   "outputs": [
    {
     "data": {
      "text/plain": [
       "38"
      ]
     },
     "execution_count": 62,
     "metadata": {},
     "output_type": "execute_result"
    }
   ],
   "source": [
    "seqnum"
   ]
  },
  {
   "cell_type": "code",
   "execution_count": 63,
   "metadata": {},
   "outputs": [],
   "source": [
    "k = 7"
   ]
  },
  {
   "cell_type": "code",
   "execution_count": 64,
   "metadata": {},
   "outputs": [],
   "source": [
    "KMDOF = []\n",
    "for i in range(seqnum):\n",
    "    kmd = K_dist(features_scaled, k, i)\n",
    "    KMDOF.append(kmd)"
   ]
  },
  {
   "cell_type": "code",
   "execution_count": 65,
   "metadata": {},
   "outputs": [],
   "source": [
    "KMDOFarray = np.array(KMDOF)"
   ]
  },
  {
   "cell_type": "code",
   "execution_count": 66,
   "metadata": {
    "scrolled": true
   },
   "outputs": [
    {
     "data": {
      "text/plain": [
       "array([1.02593532, 1.01588708, 1.01564755, 1.06733205, 1.02238062,\n",
       "       1.03502889, 1.02029904, 1.04897491, 1.07532057, 1.05017999,\n",
       "       1.04476081, 1.03280899, 1.08295194, 1.05341153, 1.06776188,\n",
       "       1.07095794, 1.04923122, 1.06329906, 1.06878382, 1.05098001,\n",
       "       1.03782649, 1.04017839, 1.05510257, 1.02539483, 1.05161087,\n",
       "       1.0349553 , 1.06908124, 1.04967967, 1.0147834 , 1.15104776,\n",
       "       1.02105551, 1.01642719, 1.0507631 , 1.01811923, 1.01141321,\n",
       "       1.07186373, 1.04354825, 1.01458616])"
      ]
     },
     "execution_count": 66,
     "metadata": {},
     "output_type": "execute_result"
    }
   ],
   "source": [
    "KMDOFarray"
   ]
  },
  {
   "cell_type": "code",
   "execution_count": 67,
   "metadata": {
    "scrolled": true
   },
   "outputs": [
    {
     "data": {
      "text/plain": [
       "29"
      ]
     },
     "execution_count": 67,
     "metadata": {},
     "output_type": "execute_result"
    }
   ],
   "source": [
    "KMDOFarray.argsort()[seqnum-1]"
   ]
  },
  {
   "cell_type": "markdown",
   "metadata": {},
   "source": [
    "## 发现第29个序列最异常"
   ]
  },
  {
   "cell_type": "code",
   "execution_count": 68,
   "metadata": {},
   "outputs": [],
   "source": [
    "startOutlier = indexarray[28]"
   ]
  },
  {
   "cell_type": "code",
   "execution_count": 69,
   "metadata": {},
   "outputs": [],
   "source": [
    "endOutlier = indexarray[29]"
   ]
  },
  {
   "cell_type": "code",
   "execution_count": 70,
   "metadata": {},
   "outputs": [],
   "source": [
    "outlierseq = pd.DataFrame(newdata.iloc[startOutlier:endOutlier+1][\"O3\"], columns=[\"O3\"])"
   ]
  },
  {
   "cell_type": "code",
   "execution_count": 71,
   "metadata": {},
   "outputs": [
    {
     "data": {
      "text/plain": [
       "[<matplotlib.lines.Line2D at 0x16379f28>]"
      ]
     },
     "execution_count": 71,
     "metadata": {},
     "output_type": "execute_result"
    }
   ],
   "source": [
    "plt.plot(outlierseq)"
   ]
  },
  {
   "cell_type": "code",
   "execution_count": null,
   "metadata": {},
   "outputs": [],
   "source": []
  }
 ],
 "metadata": {
  "kernelspec": {
   "display_name": "Python 3",
   "language": "python",
   "name": "python3"
  },
  "language_info": {
   "codemirror_mode": {
    "name": "ipython",
    "version": 3
   },
   "file_extension": ".py",
   "mimetype": "text/x-python",
   "name": "python",
   "nbconvert_exporter": "python",
   "pygments_lexer": "ipython3",
   "version": "3.6.5"
  }
 },
 "nbformat": 4,
 "nbformat_minor": 2
}
